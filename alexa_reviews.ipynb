{
 "cells": [
  {
   "cell_type": "markdown",
   "metadata": {},
   "source": [
    "# Análise de sentimento usando classificação de texto (Amazon Alexa)"
   ]
  },
  {
   "cell_type": "markdown",
   "metadata": {},
   "source": [
    "Este conjunto de dados consiste de 5 colunas contendo avaliações dos clientes de produtos *Amazon Alexa*:\r\n",
    "* rating: avaliações em número de estrelas,\r\n",
    "* date: data da avaliação\r\n",
    "* variation: variações de nomes dos modelo dos produtos\r\n",
    "* verified_revies: avaliações textuais dos produtos\r\n",
    "* feedback: representa a pontuação do sentimento, onde 1 denota positivo e 0 denota sentimento negativo. \r\n",
    "\r\n",
    "Link do dataset: <a href=\"https://www.kaggle.com/sid321axn/amazon-alexa-reviews\" target=\"_blanck\">Kaggle - Amazon Alexa Reviews</a>"
   ]
  },
  {
   "cell_type": "markdown",
   "metadata": {},
   "source": [
    "## Objetivo:\r\n",
    "\r\n",
    "Criar um modelo que possa classificar entre sentimento positivo ou negativo os textos de avaliações dos clientes dos produtos da *Amazon Alexa*."
   ]
  },
  {
   "cell_type": "markdown",
   "metadata": {},
   "source": [
    "## 1. Importando as Bibliotecas e o Dataset"
   ]
  },
  {
   "cell_type": "code",
   "execution_count": 2,
   "metadata": {},
   "outputs": [],
   "source": [
    "import pandas as pd \r\n",
    "import numpy as np\r\n",
    "import matplotlib.pyplot as plt\r\n",
    "import seaborn as sns\r\n",
    "\r\n",
    "from nltk.tokenize import RegexpTokenizer\r\n",
    "from sklearn.feature_extraction.text import CountVectorizer\r\n",
    "from sklearn.feature_extraction.text import TfidfVectorizer\r\n",
    "\r\n",
    "from sklearn.metrics import accuracy_score, precision_score, recall_score, f1_score\r\n",
    "from sklearn.model_selection import train_test_split\r\n",
    "\r\n",
    "from sklearn.linear_model import LogisticRegression"
   ]
  },
  {
   "cell_type": "code",
   "execution_count": 3,
   "metadata": {},
   "outputs": [
    {
     "data": {
      "text/html": "<div>\n<style scoped>\n    .dataframe tbody tr th:only-of-type {\n        vertical-align: middle;\n    }\n\n    .dataframe tbody tr th {\n        vertical-align: top;\n    }\n\n    .dataframe thead th {\n        text-align: right;\n    }\n</style>\n<table border=\"1\" class=\"dataframe\">\n  <thead>\n    <tr style=\"text-align: right;\">\n      <th></th>\n      <th>rating</th>\n      <th>date</th>\n      <th>variation</th>\n      <th>verified_reviews</th>\n      <th>feedback</th>\n    </tr>\n  </thead>\n  <tbody>\n    <tr>\n      <th>0</th>\n      <td>5</td>\n      <td>31-Jul-18</td>\n      <td>Charcoal Fabric</td>\n      <td>Love my Echo!</td>\n      <td>1</td>\n    </tr>\n    <tr>\n      <th>1</th>\n      <td>5</td>\n      <td>31-Jul-18</td>\n      <td>Charcoal Fabric</td>\n      <td>Loved it!</td>\n      <td>1</td>\n    </tr>\n    <tr>\n      <th>2</th>\n      <td>4</td>\n      <td>31-Jul-18</td>\n      <td>Walnut Finish</td>\n      <td>Sometimes while playing a game, you can answer...</td>\n      <td>1</td>\n    </tr>\n    <tr>\n      <th>3</th>\n      <td>5</td>\n      <td>31-Jul-18</td>\n      <td>Charcoal Fabric</td>\n      <td>I have had a lot of fun with this thing. My 4 ...</td>\n      <td>1</td>\n    </tr>\n    <tr>\n      <th>4</th>\n      <td>5</td>\n      <td>31-Jul-18</td>\n      <td>Charcoal Fabric</td>\n      <td>Music</td>\n      <td>1</td>\n    </tr>\n  </tbody>\n</table>\n</div>",
      "text/plain": "   rating       date         variation  \\\n0       5  31-Jul-18  Charcoal Fabric    \n1       5  31-Jul-18  Charcoal Fabric    \n2       4  31-Jul-18    Walnut Finish    \n3       5  31-Jul-18  Charcoal Fabric    \n4       5  31-Jul-18  Charcoal Fabric    \n\n                                    verified_reviews  feedback  \n0                                      Love my Echo!         1  \n1                                          Loved it!         1  \n2  Sometimes while playing a game, you can answer...         1  \n3  I have had a lot of fun with this thing. My 4 ...         1  \n4                                              Music         1  "
     },
     "execution_count": 3,
     "metadata": {},
     "output_type": "execute_result"
    }
   ],
   "source": [
    "# Exibe o dataset\r\n",
    "df = pd.read_csv(\"amazon_alexa.tsv\",sep=\"\\t\")\r\n",
    "df.head()"
   ]
  },
  {
   "cell_type": "markdown",
   "metadata": {},
   "source": [
    "## 2. Explorando o Dataset"
   ]
  },
  {
   "cell_type": "code",
   "execution_count": 27,
   "metadata": {},
   "outputs": [
    {
     "data": {
      "text/plain": "2893"
     },
     "execution_count": 27,
     "metadata": {},
     "output_type": "execute_result"
    }
   ],
   "source": [
    "df.feedback.value_counts()[1]"
   ]
  },
  {
   "cell_type": "code",
   "execution_count": 29,
   "metadata": {},
   "outputs": [
    {
     "data": {
      "image/png": "[encoded data removed]",
      "text/plain": "<Figure size 576x504 with 1 Axes>"
     },
     "metadata": {
      "needs_background": "light"
     },
     "output_type": "display_data"
    }
   ],
   "source": [
    "# Calcula a quantidade de feedbacks de 1 e 0\r\n",
    "zero = df.feedback.value_counts()[0]\r\n",
    "one = df.feedback.value_counts()[1]\r\n",
    "\r\n",
    "# Desenha um gráfico da quantidade e sentimentos positivos(1) e negativos(0)\r\n",
    "fig,ax = plt.subplots(figsize=(8,7))\r\n",
    "sns.countplot(x='feedback', data=df,ax=ax)\r\n",
    "ax.text(0,300,zero, size=15)\r\n",
    "ax.text(1,2900,one, size=15)\r\n",
    "plt.xlabel('Pontuação dos Sentimentos')\r\n",
    "plt.ylabel('Número de Dados')\r\n",
    "plt.show()"
   ]
  },
  {
   "cell_type": "markdown",
   "metadata": {},
   "source": [
    "Neste gráfico, podemos observar que 2.893 críticas são positivas e 257 críticas são críticas negativas. "
   ]
  },
  {
   "cell_type": "markdown",
   "metadata": {},
   "source": [
    "## 3. Gerando atributos usando *CountVectorizer*\r\n",
    "\r\n",
    "\"Bag of Words\" (BoW) é uma das técnicas de engenharia de recursos mais básicas, simples e populares para converter texto em um vetor numérico. Funciona em duas etapas: coleta de palavras do vocabulário e contagem de sua presença ou frequência no texto. Ele não considera a estrutura do documento e as informações contextuais.\r\n",
    "\r\n",
    "Vamos gerar uma matriz de BoW para as avaliações dos clientes."
   ]
  },
  {
   "cell_type": "code",
   "execution_count": 6,
   "metadata": {},
   "outputs": [],
   "source": [
    "# Cria um Regextokenizer para remover símbolos e valores numéricos\r\n",
    "regex_tokenizer = RegexpTokenizer(r'[a-zA-Z]+') \r\n",
    "# Inicializa o CountVectorizer\r\n",
    "count_vectorizer = CountVectorizer(lowercase=True, stop_words='english',ngram_range = (1,1), tokenizer = regex_tokenizer.tokenize)\r\n",
    "# Ajusta e transforma os dados\r\n",
    "count_vectors = count_vectorizer.fit_transform(df['verified_reviews'])"
   ]
  },
  {
   "cell_type": "markdown",
   "metadata": {},
   "source": [
    "Criamos um objeto *RegexTokenizer* com uma expressão regular de entrada que remove os caracteres especiais e símbolos. Depois disso, o objeto *CountVectorizer* foi criado e executou a operação de ajuste e transformação nos textos de avaliação. Aqui, *CountVectorizer* usa parâmetros como *lowercase* para converter palavras-chave em minúsculas, *stop_words* para especificar um lista de palavras de interrupção específicas do idioma (em inglês, no caso), *ngram_range* para especificar o unigrama, bigrama ou trigrama, e o *tokenizer* que é usado para passar o objeto tokenizer. "
   ]
  },
  {
   "cell_type": "code",
   "execution_count": 7,
   "metadata": {},
   "outputs": [],
   "source": [
    "# Diviir os dados em conjunto de traino e e teste\r\n",
    "feature_train, feature_test, target_train, target_test = train_test_split(count_vectors, df['feedback'],\r\n",
    "                                                                        test_size=0.3, random_state=1)"
   ]
  },
  {
   "cell_type": "markdown",
   "metadata": {},
   "source": [
    "Vamos construir o modelo de regressão logística para classificar os sentimentos de revisão usando BoW (ou CountVectorizer). Usamos esse modelo por ser um bom classificador para casos de classes binárias."
   ]
  },
  {
   "cell_type": "code",
   "execution_count": 8,
   "metadata": {},
   "outputs": [],
   "source": [
    "# Cria o modelo\r\n",
    "logreg = LogisticRegression(solver='lbfgs')\r\n",
    "# Ajusta o modelo com os dados\r\n",
    "logreg.fit(feature_train,target_train)\r\n",
    "# Prevê a variável alvo para o conjunto de teste\r\n",
    "predictions = logreg.predict(feature_test)"
   ]
  },
  {
   "cell_type": "code",
   "execution_count": 9,
   "metadata": {},
   "outputs": [
    {
     "name": "stdout",
     "output_type": "stream",
     "text": [
      "Logistic Regression Model Accuracy:  0.9428571428571428\n",
      "Logistic Regression Model Precision:  0.952433628318584\n",
      "Logistic Regression Model Recall:  0.9873853211009175\n",
      "Logistic Regression Model F1-Score:  0.9695945945945945\n"
     ]
    }
   ],
   "source": [
    "# Avalie o desempenho do modelo usando métrica de acurácia \r\n",
    "print(\"Logistic Regression Model Accuracy: \", accuracy_score(target_test, predictions))\r\n",
    "# Calcula a precisão do modelo\r\n",
    "print(\"Logistic Regression Model Precision: \", precision_score(target_test, predictions))\r\n",
    "# Calcula o recall (sensibilidade) do modelo\r\n",
    "print(\"Logistic Regression Model Recall: \", recall_score(target_test,predictions))\r\n",
    "# Calcula a métrica f1 score\r\n",
    "print(\"Logistic Regression Model F1-Score: \", f1_score(target_test,predictions))"
   ]
  },
  {
   "cell_type": "markdown",
   "metadata": {},
   "source": [
    "Todas as medidas são maiores que 94%, então podemos dizer que nosso modelo está tendo um bom desempenho e classificando ambos os níveis de sentimento com uma boa quantidade de precisão e recall. "
   ]
  },
  {
   "cell_type": "markdown",
   "metadata": {},
   "source": [
    "## 4. Gerando atributos usando *TfidfVectorizer*\r\n",
    "\r\n",
    "TF-IDF significa 'Term Frequency-Inverse Document Frequency'. Possui dois segmentos: Frequência do termo (TF) e Frequência inversa do documento (IDF). TF conta apenas a ocorrência de palavras em cada documento. É equivalente a BoW. TF não considera o contexto das palavras. O IDF calcula valores que correspondem à quantidade de informação mantida por uma palavra. \r\n",
    "\r\n",
    "TF-IDF normaliza os pesos dos documentos. Um valor mais alto de TF-IDF para uma palavra representa uma ocorrência mais alta naquele documento. \r\n",
    "\r\n",
    "Vamos gerar uma matriz TF-IDF para as avaliações do cliente usando o *TfidfVectorizer*"
   ]
  },
  {
   "cell_type": "code",
   "execution_count": 10,
   "metadata": {},
   "outputs": [],
   "source": [
    "# Cria um Regextokenizer para remover símbolos e valores numéricos\r\n",
    "regex_tokenizer = RegexpTokenizer(r'[a-zA-Z]+')\r\n",
    "# Inicializa o TfidfVectorizer \r\n",
    "tfidf = TfidfVectorizer(lowercase=True, stop_words='english',ngram_range = (1,1),tokenizer = regex_tokenizer.tokenize)\r\n",
    "# Ajusta e transforma os dados\r\n",
    "text_tfidf = tfidf.fit_transform(df['verified_reviews'])"
   ]
  },
  {
   "cell_type": "markdown",
   "metadata": {},
   "source": [
    "No código anterior, criamos um objeto *RegexTokenizer* com uma expressão regular de entrada que remove os caracteres especiais e símbolos. Depois disso, o objeto *TfidfVectorizer* foi criado e executou a operação de ajuste e transformação nas revisões verificadas. Aqui, o *TfidfVectorizer* usa parâmetros semelhantes ao *CountVectorizer*."
   ]
  },
  {
   "cell_type": "code",
   "execution_count": 11,
   "metadata": {},
   "outputs": [],
   "source": [
    "# Divide os dados em conjunto de traino e de teste\r\n",
    "X_train, X_test, y_train, y_test = train_test_split(text_tfidf, df['feedback'],\r\n",
    "                                                                        test_size=0.3, random_state=1)"
   ]
  },
  {
   "cell_type": "markdown",
   "metadata": {},
   "source": [
    "Vamos construir o modelo de regressão logística para classificar os sentimentos de revisão usando TF-IDF "
   ]
  },
  {
   "cell_type": "code",
   "execution_count": 12,
   "metadata": {},
   "outputs": [],
   "source": [
    "# Usa o modelo de regressão logistica  \r\n",
    "logreg = LogisticRegression(solver='lbfgs')\r\n",
    "logreg.fit(X_train,y_train)\r\n",
    "predictions = logreg.predict(X_test)"
   ]
  },
  {
   "cell_type": "code",
   "execution_count": 13,
   "metadata": {},
   "outputs": [
    {
     "name": "stdout",
     "output_type": "stream",
     "text": [
      "Logistic Regression Model Accuracy: 0.9238095238095239\n",
      "Logistic Regression Model Precision: 0.923728813559322\n",
      "Logistic Regression Model Recall: 1.0\n",
      "Logistic Regression Model F1-Score: 0.960352422907489\n"
     ]
    }
   ],
   "source": [
    "# Calcula as métricas\r\n",
    "print(\"Logistic Regression Model Accuracy:\",accuracy_score(y_test, predictions))\r\n",
    "print(\"Logistic Regression Model Precision:\",precision_score(y_test, predictions))\r\n",
    "print(\"Logistic Regression Model Recall:\",recall_score(y_test,predictions))\r\n",
    "print(\"Logistic Regression Model F1-Score:\",f1_score(y_test,predictions))"
   ]
  },
  {
   "cell_type": "markdown",
   "metadata": {},
   "source": [
    "A acurácia e precisão deram valores menores que no caso anterior, o recall foi superior, mas no final o f1-score foi semelhante ao anterior."
   ]
  },
  {
   "cell_type": "markdown",
   "metadata": {},
   "source": [
    "## 5. Conclusão\r\n",
    "\r\n",
    "Conseguimos criar bons modelos que avaliam como sentimentos positivo ou netaivo os textos de avaliações deixados por clientes do produto.\r\n",
    "\r\n",
    "Usamos suas técnicas de engenharia de recuros, o Bag of Word e o TI-IDF, ambos se mostrarm satisfatórios na tarefa atribuída."
   ]
  },
  {
   "cell_type": "code",
   "execution_count": null,
   "metadata": {},
   "outputs": [],
   "source": []
  }
 ],
 "metadata": {
  "kernelspec": {
   "display_name": "Python 3.7.6 64-bit ('base': conda)",
   "name": "python376jvsc74a57bd0611cf997d5a3904788d8bf9711afacc9acf0278f5ab751438d0be3f34b870c8a"
  },
  "language_info": {
   "codemirror_mode": {
    "name": "ipython",
    "version": 3
   },
   "file_extension": ".py",
   "mimetype": "text/x-python",
   "name": "python",
   "nbconvert_exporter": "python",
   "pygments_lexer": "ipython3",
   "version": "3.7.6"
  },
  "orig_nbformat": 2
 },
 "nbformat": 4,
 "nbformat_minor": 2
}