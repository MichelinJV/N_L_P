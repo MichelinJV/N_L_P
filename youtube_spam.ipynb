{
 "cells": [
  {
   "cell_type": "code",
   "execution_count": 28,
   "metadata": {},
   "outputs": [],
   "source": [
    "import pandas as pd\r\n",
    "import numpy as np\r\n",
    "import seaborn as sns\r\n",
    "\r\n",
    "from sklearn.pipeline import Pipeline\r\n",
    "from sklearn.model_selection import cross_val_score\r\n",
    "from sklearn.feature_extraction.text import CountVectorizer\r\n",
    "from sklearn.feature_extraction.text import TfidfTransformer\r\n",
    "from sklearn.ensemble import RandomForestClassifier\r\n",
    "from sklearn.model_selection import GridSearchCV\r\n",
    "from sklearn.metrics import confusion_matrix\r\n"
   ]
  },
  {
   "cell_type": "code",
   "execution_count": 2,
   "metadata": {},
   "outputs": [
    {
     "data": {
      "text/html": "<div>\n<style scoped>\n    .dataframe tbody tr th:only-of-type {\n        vertical-align: middle;\n    }\n\n    .dataframe tbody tr th {\n        vertical-align: top;\n    }\n\n    .dataframe thead th {\n        text-align: right;\n    }\n</style>\n<table border=\"1\" class=\"dataframe\">\n  <thead>\n    <tr style=\"text-align: right;\">\n      <th></th>\n      <th>COMMENT_ID</th>\n      <th>AUTHOR</th>\n      <th>DATE</th>\n      <th>CONTENT</th>\n      <th>CLASS</th>\n    </tr>\n  </thead>\n  <tbody>\n    <tr>\n      <th>0</th>\n      <td>LZQPQhLyRh80UYxNuaDWhIGQYNQ96IuCg-AYWqNPjpU</td>\n      <td>Julius NM</td>\n      <td>2013-11-07T06:20:48</td>\n      <td>Huh, anyway check out this you[tube] channel: ...</td>\n      <td>1</td>\n    </tr>\n    <tr>\n      <th>1</th>\n      <td>LZQPQhLyRh_C2cTtd9MvFRJedxydaVW-2sNg5Diuo4A</td>\n      <td>adam riyati</td>\n      <td>2013-11-07T12:37:15</td>\n      <td>Hey guys check out my new channel and our firs...</td>\n      <td>1</td>\n    </tr>\n    <tr>\n      <th>2</th>\n      <td>LZQPQhLyRh9MSZYnf8djyk0gEF9BHDPYrrK-qCczIY8</td>\n      <td>Evgeny Murashkin</td>\n      <td>2013-11-08T17:34:21</td>\n      <td>just for test I have to say murdev.com</td>\n      <td>1</td>\n    </tr>\n    <tr>\n      <th>3</th>\n      <td>z13jhp0bxqncu512g22wvzkasxmvvzjaz04</td>\n      <td>ElNino Melendez</td>\n      <td>2013-11-09T08:28:43</td>\n      <td>me shaking my sexy ass on my channel enjoy ^_^ ﻿</td>\n      <td>1</td>\n    </tr>\n    <tr>\n      <th>4</th>\n      <td>z13fwbwp1oujthgqj04chlngpvzmtt3r3dw</td>\n      <td>GsMega</td>\n      <td>2013-11-10T16:05:38</td>\n      <td>watch?v=vtaRGgvGtWQ   Check this out .﻿</td>\n      <td>1</td>\n    </tr>\n  </tbody>\n</table>\n</div>",
      "text/plain": "                                    COMMENT_ID            AUTHOR  \\\n0  LZQPQhLyRh80UYxNuaDWhIGQYNQ96IuCg-AYWqNPjpU         Julius NM   \n1  LZQPQhLyRh_C2cTtd9MvFRJedxydaVW-2sNg5Diuo4A       adam riyati   \n2  LZQPQhLyRh9MSZYnf8djyk0gEF9BHDPYrrK-qCczIY8  Evgeny Murashkin   \n3          z13jhp0bxqncu512g22wvzkasxmvvzjaz04   ElNino Melendez   \n4          z13fwbwp1oujthgqj04chlngpvzmtt3r3dw            GsMega   \n\n                  DATE                                            CONTENT  \\\n0  2013-11-07T06:20:48  Huh, anyway check out this you[tube] channel: ...   \n1  2013-11-07T12:37:15  Hey guys check out my new channel and our firs...   \n2  2013-11-08T17:34:21             just for test I have to say murdev.com   \n3  2013-11-09T08:28:43   me shaking my sexy ass on my channel enjoy ^_^ ﻿   \n4  2013-11-10T16:05:38            watch?v=vtaRGgvGtWQ   Check this out .﻿   \n\n   CLASS  \n0      1  \n1      1  \n2      1  \n3      1  \n4      1  "
     },
     "execution_count": 2,
     "metadata": {},
     "output_type": "execute_result"
    }
   ],
   "source": [
    "dados = pd.concat([pd.read_csv(\"Youtube01-Psy.csv\"),\n",
    "                   pd.read_csv(\"Youtube02-KatyPerry.csv\"),\n",
    "                   pd.read_csv(\"Youtube03-LMFAO.csv\"),\n",
    "                   pd.read_csv(\"Youtube04-Eminem.csv\"),\n",
    "                   pd.read_csv(\"Youtube05-Shakira.csv\")])\n",
    "dados.head()"
   ]
  },
  {
   "cell_type": "code",
   "execution_count": 3,
   "metadata": {},
   "outputs": [
    {
     "name": "stdout",
     "output_type": "stream",
     "text": [
      "Número de linhas: 1956\n",
      "Número de colunas: 5\n"
     ]
    }
   ],
   "source": [
    "print(\"Número de linhas:\", dados.shape[0])\n",
    "print(\"Número de colunas:\", dados.shape[1])"
   ]
  },
  {
   "cell_type": "code",
   "execution_count": 4,
   "metadata": {},
   "outputs": [
    {
     "name": "stdout",
     "output_type": "stream",
     "text": [
      "<class 'pandas.core.frame.DataFrame'>\n",
      "Int64Index: 1956 entries, 0 to 369\n",
      "Data columns (total 5 columns):\n",
      " #   Column      Non-Null Count  Dtype \n",
      "---  ------      --------------  ----- \n",
      " 0   COMMENT_ID  1956 non-null   object\n",
      " 1   AUTHOR      1956 non-null   object\n",
      " 2   DATE        1711 non-null   object\n",
      " 3   CONTENT     1956 non-null   object\n",
      " 4   CLASS       1956 non-null   int64 \n",
      "dtypes: int64(1), object(4)\n",
      "memory usage: 91.7+ KB\n"
     ]
    }
   ],
   "source": [
    "dados.info()"
   ]
  },
  {
   "cell_type": "markdown",
   "metadata": {},
   "source": [
    "Os dados precisam serem filtrados. Vamos selecionar as colunas:"
   ]
  },
  {
   "cell_type": "markdown",
   "metadata": {},
   "source": [
    "\"CONTENT\": Esta coluna contém os comentários publicados nos diferentes videos, existem diferentes valores de string.\n",
    "\n",
    "\"CLASS\": Contém os valores 1 ou 0 fara spam ou não spam, assim, possui valores inteiros. "
   ]
  },
  {
   "cell_type": "code",
   "execution_count": 5,
   "metadata": {},
   "outputs": [
    {
     "data": {
      "text/html": "<div>\n<style scoped>\n    .dataframe tbody tr th:only-of-type {\n        vertical-align: middle;\n    }\n\n    .dataframe tbody tr th {\n        vertical-align: top;\n    }\n\n    .dataframe thead th {\n        text-align: right;\n    }\n</style>\n<table border=\"1\" class=\"dataframe\">\n  <thead>\n    <tr style=\"text-align: right;\">\n      <th></th>\n      <th>CONTENT</th>\n      <th>CLASS</th>\n    </tr>\n  </thead>\n  <tbody>\n    <tr>\n      <th>0</th>\n      <td>Huh, anyway check out this you[tube] channel: ...</td>\n      <td>1</td>\n    </tr>\n    <tr>\n      <th>1</th>\n      <td>Hey guys check out my new channel and our firs...</td>\n      <td>1</td>\n    </tr>\n    <tr>\n      <th>2</th>\n      <td>just for test I have to say murdev.com</td>\n      <td>1</td>\n    </tr>\n    <tr>\n      <th>3</th>\n      <td>me shaking my sexy ass on my channel enjoy ^_^ ﻿</td>\n      <td>1</td>\n    </tr>\n    <tr>\n      <th>4</th>\n      <td>watch?v=vtaRGgvGtWQ   Check this out .﻿</td>\n      <td>1</td>\n    </tr>\n  </tbody>\n</table>\n</div>",
      "text/plain": "                                             CONTENT  CLASS\n0  Huh, anyway check out this you[tube] channel: ...      1\n1  Hey guys check out my new channel and our firs...      1\n2             just for test I have to say murdev.com      1\n3   me shaking my sexy ass on my channel enjoy ^_^ ﻿      1\n4            watch?v=vtaRGgvGtWQ   Check this out .﻿      1"
     },
     "execution_count": 5,
     "metadata": {},
     "output_type": "execute_result"
    }
   ],
   "source": [
    "spam = dados[['CONTENT', \"CLASS\"]]\n",
    "spam.head()"
   ]
  },
  {
   "cell_type": "code",
   "execution_count": 6,
   "metadata": {},
   "outputs": [
    {
     "data": {
      "text/plain": "CONTENT    0\nCLASS      0\ndtype: int64"
     },
     "execution_count": 6,
     "metadata": {},
     "output_type": "execute_result"
    }
   ],
   "source": [
    "spam.isnull().sum()"
   ]
  },
  {
   "cell_type": "markdown",
   "metadata": {},
   "source": [
    "Vemos que não existem valores faltentes nos dados"
   ]
  },
  {
   "cell_type": "code",
   "execution_count": 7,
   "metadata": {},
   "outputs": [
    {
     "data": {
      "text/plain": "<matplotlib.axes._subplots.AxesSubplot at 0x6d5c54c888>"
     },
     "execution_count": 7,
     "metadata": {},
     "output_type": "execute_result"
    },
    {
     "data": {
      "image/png": "[encoded data removed]",
      "text/plain": "<Figure size 432x288 with 1 Axes>"
     },
     "metadata": {
      "needs_background": "light"
     },
     "output_type": "display_data"
    }
   ],
   "source": [
    "sns.countplot(spam[\"CLASS\"])"
   ]
  },
  {
   "cell_type": "markdown",
   "metadata": {},
   "source": [
    "\n",
    "Vemos que os dados estão balanceados, há pouca diferença entre os comentários classificados como spam(1) dos não spam (0)"
   ]
  },
  {
   "cell_type": "markdown",
   "metadata": {},
   "source": [
    "Vamos embaralhar os dados e separar os as variáveis"
   ]
  },
  {
   "cell_type": "code",
   "execution_count": 9,
   "metadata": {},
   "outputs": [],
   "source": [
    "dshuffle = spam.sample(frac=1)\r\n",
    "comentarios = dshuffle['CONTENT']\r\n",
    "rotulo = dshuffle[\"CLASS\"] "
   ]
  },
  {
   "cell_type": "markdown",
   "metadata": {},
   "source": [
    "Podemos contabiliza o núimero de diferentes palavaras que aparecem nos comentários"
   ]
  },
  {
   "cell_type": "code",
   "execution_count": 11,
   "metadata": {},
   "outputs": [
    {
     "name": "stdout",
     "output_type": "stream",
     "text": [
      "Quantiade de palavras:4229\n",
      "{'guys': 1830, 'check': 922, 'extraordinary': 1493, 'website': 4050, 'called': 847, 'zonepa': 4212, 'com': 997, 'make': 2447, 'money': 2589, 'online': 2783, 'start': 3551, 'working': 4123, 'home': 1940, 'today': 3777, 'making': 2452, '000': 1, 'month': 2598, 'visit': 3978, 'does': 1275, 'war': 4021, 'illustrate': 2023, 'exclusive': 1469, 'space': 3500, 'mountain': 2612, 'refers': 3139, 'helpless': 1904, 'death': 1182, 'tax': 3697, 'reviews': 3193, 'special': 3513, 'music': 2636, 'started': 3552, 'hating': 1878, 'katy': 2193, 'perry': 2882, 'finding': 1593, 'stole': 3570, 'ideas': 2003, 'videos': 3955, 'old': 2770, 'comic': 1006, 'book': 763, 'catchy': 870, '300': 189, 'subscribers': 3605, 'tomorrow': 3782, 'll': 2348, 'epic': 1433, 'hunger': 1982, 'games': 1699, 'video': 3953, 'ummm': 3868, 'just': 2179, 'hit': 1928, '1k': 116, 'minecraft': 2549, 'help': 1900, 'checking': 924, 'hi': 1914, 'heard': 1891, 'dribbleproshot': 1315, 'search': 3302, 'google': 1774, 'web': 4049, 'site': 3418, 'watch': 4033, 'smart': 3451, 'free': 1647, 'featuring': 1553, 'best': 702, 'way': 4043, 'significantly': 3396, 'boost': 768, 'football': 1626, 'aka': 491, 'soccer': 3463, 'skills': 3424, 'time': 3766, 'turned': 3849, 'nick': 2690, 'better': 706, 'player': 2924, 'team': 3704, 'mates': 2474, 'definitily': 1197, 'amazed': 511, 'hope': 1951, 'nicee': 2686, 'sabrosura': 3260, 'viva': 3985, 'https': 1974, 'soundcloud': 3492, 'yerki': 4180, 'elinmigrante': 1386, 'myb': 2645, 'body': 757, 'remove': 3167, 'wank': 4016, 'nice': 2685, 'br': 784, 'yeah': 4175, 'fucking': 1674, 'hello': 1899, 'eminem': 1394, 'song': 3475, 'channel': 906, 'like': 2313, 'don': 1287, '39': 216, 'need': 2664, 'subscribe': 3600, 'thanks': 3731, 'remember': 3159, 'used': 3908, 'popular': 2961, 'love': 2393, 'loved': 2394, 'teenage': 3709, 'years': 4177, 'johnny': 2156, 'know': 2228, 'thumb': 3757, 'want': 4018, 'hear': 1890, 'original': 2802, 'songs': 3476, 'completely': 1026, 'person': 2883, 'continue': 1057, 'reading': 3109, 'sing': 3405, 'write': 4144, 'lyrics': 2427, 'amp': 522, 'play': 2923, 'guitar': 1823, 'bass': 669, 'drums': 1326, 'keyboards': 2202, 'man': 2455, 'band': 657, 'independent': 2054, '100': 18, 'listener': 2336, 'supported': 3642, 'willing': 4086, 'record': 3128, 'new': 2680, 'album': 493, 'click': 969, 'picture': 2902, 'thank': 3728, 'enjoy': 1415, 'wish': 4099, 'awesome': 629, 'day': 1173, 'ｈｔｔｐ': 4223, 'ｗｗｗ': 4228, 'ｅｂａｙ': 4221, 'ｃｏｍ': 4218, 'ｕｓｒ': 4227, 'ｓｈｏｅｃｏｌｌｅｃｔｏｒ314': 4225, 'shuffling': 3387, 'pls': 2941, 'emi': 1393, 'nem': 2669, 'fans': 1524, 'www': 4155, 'facebook': 1504, 'eeccon': 1369, 'posts': 2977, '733949243353321': 323, 'comment_id': 1009, '734237113324534': 324, 'offset': 2762, 'total_comments': 3794, '74': 325, 'frigea': 1662, 'marius': 2462, 'gabriel': 1692, 'comment': 1008, '126': 54, '492': 253, '636': 307, 'viewer': 3962, 'youtube': 4194, 'laughing': 2273, 'ass': 596, 'plizz': 2938, 'withing': 4101, 'acoustic': 425, 'cool': 1061, 'good': 1771, 'thing': 3746, 'pisses': 2912, 'bit': 733, 'blank': 739, 'views': 3965, '868': 346, 'mio': 2556, 'meh': 2502, 'forget': 1628, 'choice': 941, 'fuck': 1670, 'surviving': 3654, 'plane': 2918, 'crash': 1087, '1000': 19, 'chance': 900, 'happening': 1862, 'believe': 689, 'jesus': 2144, 'christ': 947, 'savior': 3279, 'sins': 3413, 'truly': 3833, 'heaven': 1895, 'saved': 3277, 'salvation': 3267, 'gained': 1695, 'god': 1760, 'righteousness': 3205, 'matters': 2478, 'sinned': 3411, 'past': 2846, 'present': 2995, 'especially': 1439, 'future': 1687, 'forever': 1627, 'truth': 3837, 'spread': 3539, 'sit': 3417, 'face': 1503, 'really': 3115, 'dollars': 1283, 'ok': 2767, 'thats': 3734, 'ill': 2019, 'erection': 1436, 'makeup': 2450, 'transformation': 3811, 'integrated': 2086, 'look': 2367, 'feature': 1551, 'available': 620, 'ver': 3941, '13': 58, 'install': 2079, 'update': 3893, 'version': 3945, 'store': 3572, 'apps': 571, 'details': 1223, 'id': 2000, 'yourelink': 4191, 'makeuptransformation': 2451, 'playlist': 2926, 'hbbhhhgh': 1883, 'greatest': 1801, 'artist': 584, 'touch': 3796, 'mic': 2529, 'hey': 1912, 'young': 4188, 'coming': 1007, 'rapper': 3095, 'wanna': 4017, 'spam': 3503, 'wont': 4112, 'fame': 1517, 'moment': 2586, 'got': 1788, 'getting': 1730, 'little': 2341, 'attention': 602, 'favour': 1541, 'drop': 1323, 'sub': 3595, 'im': 2026, 'appreciate': 567, 'leave': 2289, 'constructive': 1052, 'criticism': 1105, '200': 121, '4000': 231, 'vid': 3952, 'ive': 2122, 'told': 3780, 'potential': 2978, 'shakira': 3349, 'rel': 3151, 'nofollow': 2709, 'class': 962, 'ot': 2803, 'hashtag': 1873, 'href': 1970, 'plus': 2942, '23awesome': 146, '23share': 156, 'share': 3355, '23rt': 155, 'rt': 3247, 'lie': 2306, 'ft': 1667, 'rihanna': 3208, 'http': 1973, 'ow': 2814, 'ly': 2421, '2zme8f': 187, 'think': 3749, 'iniesta': 2062, 'goal': 1758, 'netherlands': 2677, '__': 377, 'spooked': 3529, 'spookinati': 3530, '666': 311, 'people': 2871, 'unspooked': 3888, 'read': 3108, '15': 95, 'year': 4176, 'boy': 780, 'dreaming': 1307, 'successful': 3616, 'musician': 2637, 'world': 4125, 'lots': 2389, 'covers': 1082, 'piano': 2899, 'advertise': 459, 'simple': 3401, 'thumbs': 3758, 'subscription': 3610, 'step': 3561, 'forward': 1634, 'seconds': 3308, 'life': 2309, 'won': 4109, 'regret': 3146, 'torunament': 3792, 'spare': 3509, 'smile': 3455, 'sad': 3261, 'cheer': 925, 'beautiful': 679, 'lt': 2405, 'amazing': 513, 'riri': 3212, 'fan': 1521, 'girl': 1743, 'train': 3809, 'dancing': 1161, 'outfit': 2809, 'sexy': 3342, 'huge': 1976, 'turn': 3848, 'lacked': 2251, 'eyebrows': 1496, 'increidebl': 2053, 'ubuntuone': 3864, '40beuutvu2zkxk4utgpz8k': 233, 'statement': 3554, 'conciliate': 1033, 'acidic': 422, 'stretch': 3583, 'earth': 1351, 'recognizes': 3126, 'numberless': 2736, 'number': 2734, 'transport': 3815, 'trade': 3806, 'subscribed': 3601, 'btw': 814, 'style': 3594, 'brother': 806, 'goose': 1780, 'bumps': 822, 'stupid': 3591, 'humanity': 1979, 'quot': 3078, 'mind': 2547, 'master': 2472, 'beats': 678, 'pictures': 2903, 'difficult': 1239, 'image2you': 2030, 'ru': 3249, '48051': 249, '1340524': 82, '1340523': 81, '1340522': 80, '1340521': 79, '1340520': 78, '1340519': 77, '1340518': 76, '1340517': 75, '1340504': 74, '1340503': 73, '1340502': 72, '1340500': 71, '1340499': 70, '1340494': 69, '1340493': 68, '1340492': 67, '1340491': 66, '1340490': 65, '1340489': 64, '1340488': 63, 'omg': 2778, 'fuego': 1676, 'la': 2250, 'remix': 3164, 'hyperurl': 1990, 'k6a5xt': 2187, 'nature': 2660, 'place': 2916, 'tits': 3774, 'impress': 2039, 'goood': 1778, 'vidios': 3956, 'compared': 1019, 'million': 2540, 'going': 1764, '1bi': 109, 'sooooooooooooong': 3483, 'near': 2661, 'drives': 1318, 'crazy': 1089, 'supper': 3640, 'zero': 4207, 'racist': 3079, 'follow': 1616, 'vaahidmustafic': 3926, 'shit': 3368, 'relevant': 3156, 'milions': 2539, 'comentars': 1002, 'bilion': 720, 'dont': 1291, 'comments': 1012, 'maroon': 2468, 'latest': 2269, '2nd': 183, 'single': 3409, 'tq046fuau00': 3802, 'hot': 1963, 'dante': 1166, 'riled': 3209, 'pages': 2820, 'brew': 796, 'crew': 1098, '2014': 134, '134470083389909': 83, 'page': 2817, 'win': 4088, 'iphone': 2104, '5s': 295, 'billion': 723, 'smack': 3448, 'oldspice': 2774, 'spraytan': 3538, 'party': 2838, 'commercial': 1013, 'sitting': 3420, 'isn': 2111, 'real': 3112, 'yo': 4186, 'sorry': 3489, 'annoys': 545, 'psnboss': 3046, 'ref': 3135, '2tggp3pv6l': 185, 'lil': 2321, 'live': 2343, 'company': 1018, 'twitter': 3858, 'thewaxedhatco': 3745, 'tweet': 3854, 'therealterrell_': 3742, 'illuminati': 2022, '911': 364, 'american': 519, 'government': 1791, 'makes': 2449, 'dance': 1157, 'watching': 4036, 'phone': 2893, 'miss': 2558, 'lmfao': 2351, 'rockin': 3233, 'honestly': 1945, 'brave': 789, 'oh': 2764, 'wait': 4008, 'likkee': 2320, 'shares': 3357, '90': 359, 'rap': 3089, 'big': 713, 'pun': 3052, 'beware': 708, 'cover': 1080, 'likes': 2318, 'appreciated': 568, 'psy': 3047, 'reverbnation': 3191, 'msmarilynmiles': 2625, 'asian': 588, 'things': 3748, 'non': 2714, 'countries': 1074, 'jelly': 2140, 'try': 3838, 'learn': 2286, 'asia': 587, 'looking': 2369, 'beginning': 682, 'scared': 3287, 'leopard': 2296, 'bikini': 718, 'favorite': 1540, 'dope': 1292, 'phenomenallyricshere': 2892, 'beat': 674, 'gangnam': 1707, 'lovet': 2400, 'wow': 4137, 've': 3936, 'income': 2049, 'financial': 1592, 'risk': 3215, 'acquiring': 427, 'bonus': 761, 'deals': 1180, 'weird': 4058, 'technique': 3707, 'wager': 4004, 'bookmakers': 765, 'bet': 703, 'betfair': 705, 'secure': 3313, 'chap': 910, 'named': 2654, 'jim': 2145, 'vanstone': 3933, 'wagers': 4005, 'secrets': 3311, '500': 264, 'quid': 3075, 'far': 1527, 'cost': 1068, 'guess': 1821, 'bookies': 764, 'pay': 2853, 'obtain': 2750, 'consumers': 1053, 'actually': 437, 'works': 4124, 'artady': 582, 'stuff': 3590, 'feedback': 1556, 'knows': 2231, '2015': 136, 'fuckin': 1673, 'suscribe': 3656, 'amazon': 514, 'knight': 2226, 'dawn': 1172, 'cursed': 1127, 'daniel': 1164, 'ebook': 1359, 'dp': 1300, 'b00mppqhri': 642, 'sr_1_7': 3544, 'digital': 1240, 'text': 3725, '3bie': 221, 'utf8': 3920, '3bqid': 223, '1408122684': 85, '3bsr': 224, '3bkeywords': 222, 'tag': 3679, 'wattpad': 4039, '20': 120, 'talented': 3683, 'sponsor': 3527, 'anybody': 551, 'literally': 2340, 'rock': 3232, 'housee': 1969, 'tonight': 3784, 'funny': 1684, '700': 317, 'bots': 775, 'mean': 2485, 'mon': 2588, 'bs': 813, 'saw': 3280, 'jesses': 2143, 'spelled': 3516, 'wrong': 4148, 'peace': 2863, '87': 348, 'cypher': 1137, '11': 42, 'recently': 3124, 'second': 3307, 'desire': 1220, 'ep': 1432, 'counts': 1076, 'movies': 2617, 'networkedblogs': 2679, '11cpwb': 48, 'panorama': 2829, 'illegal': 2020, 'goodlooking': 1773, 'babe': 650, 'gift': 1736, 'cards': 862, 'pal': 2825, 'soon': 3480, 'brings': 800, 'hurts': 1985, 'bad': 652, 'inside': 2069, 'poster': 2974, 'nyghdramafest2014': 2743, 'photos': 2897, '333608120156973': 205, '1073741830': 37, '327568907427561': 200, '333607726823679': 204, 'type': 3862, 'theater': 3736, 'gets': 1729, 'shout': 3380, 'tell': 3712, 'happen': 1860, 'hahahahah': 1846, 'vines': 3968, 'daily': 1152, 'fe': 1547, 'fegelein': 1563, 'brought': 809, 'africa': 472, 'trayvon': 3817, 'motherland': 2608, 'mindblowing': 2548, 'superbbb': 3635, 'said': 3263, 'deserve': 1217, '2billion': 177, 'visiting': 3979, 'gone': 1768, 'eminems': 1395, 'actual': 436, 'talking': 3686, 'untitled': 3891, 'cold': 985, 'wind': 4089, 'blows': 751, 'welcome': 4059, 'hell': 1898, 'elevator': 1384, 'business': 829, 'wtp': 4151, 'famous': 1520, '25': 161, 'apologies': 557, 'toy': 3801, 'soldiers': 3468, 'mosh': 2606, 'insane': 2065, 'head': 1885, 'melbourne': 2505, 'shuffle': 3383, 'everybody': 1455, 'perfect': 2874, 'wonder': 4110, 'charlie': 914, 'heroin': 1910, 'oreo': 2799, 'white': 4073, 'access': 414, 'middle': 2533, 'woods': 4115, 'adele': 445, 'kodaline': 2233, 'imagine': 2031, 'dragons': 1301, 'minutes': 2555, 'listen': 2335, 'feel': 1557, 'bangladesh': 662, 'komedi': 2237, 'burda': 824, 'gel': 1721, '775510675841486': 330, 'voice': 3989, 'thumsb': 3759, 'vote': 3991, 'ema': 1389, 'female': 1566, 'pop': 2959, 'hood': 1947, 'doh': 1279, 'flixter': 1607, 'nossnevs': 2722, 'monkeys': 2593, 'monkey': 2592, 'shirt': 3366, 'waka': 4009, 'rules': 3252, 'hand': 1856, 'signed': 3395, 'photo': 2895, 'fb': 1544, 'adf': 446, 'kld3y': 2223, 'hard': 1867, '60': 298, 'days': 1174, 'improve': 2040, 'writing': 4146, 'recording': 3129, 'mixing': 2567, 'performing': 2878, '16': 96, 'bars': 664, 'everyday': 1456, 'doing': 1280, '365': 210, 'work': 4121, 'verses': 3944, 'build': 820, 'base': 665, 'closer': 974, 'dream': 1305, 'lyrical': 2424, 'promise': 3026, 'commment': 1015, 'rapping': 3097, 'wheels': 4070, 'burst': 827, 'render': 3168, 'symptomatic': 3673, 'bite': 736, 'knowledge': 2229, 'briefs': 797, 'narrow': 2656, 'thought': 3753, 'eager': 1345, 'sky': 3430, 'transmit': 3814, 'crush': 1113, 'fav': 1536, 'holy': 1939, 'mary': 2471, 'pray': 2989, 'mother': 2607, 'virgin': 3974, 'virgins': 3975, 'divine': 1264, 'grace': 1793, 'pure': 3055, 'chaste': 916, 'inviolate': 2098, 'undefiled': 3873, 'amiable': 521, 'admirable': 448, 'counsel': 1071, 'creator': 1094, 'redeemer': 3132, 'answer': 547, 'rehabilitate': 3147, 'blushing': 753, 'limit': 2324, 'push': 3058, 'depreciateds': 1211, 'steel': 3560, 'selection': 3318, 'edit': 1365, 'range': 3087, 'gonna': 1769, 'somebody': 3472, 'wake': 4010, 'yall': 4170, 'annoying': 544, 'min': 2545, 'track': 3804, 'upcoming': 3892, 'uk': 3866, 'come': 998, 'em': 1388, 'worries': 4130, 'wastin': 4030, 'noticed': 2726, 'ebay': 1358, 'itm': 2115, '131338190916': 61, 'sspagename': 3547, 'strk': 3584, 'meselx': 2518, '_trksid': 389, 'p3984': 2815, 'm1555': 2428, 'l2649': 2248, 'wood': 4114, 'pile': 2907, 'seen': 3315, 'hmm': 1934, 'bout': 776, 'pie': 2904, 'ladies': 2254, 'ryhme': 3255, 'canibus': 856, 'away': 626, 'quadrillion': 3069, 'times': 3767, 'categories': 871, 'intelligent': 2089, 'learned': 2287, 'rapped': 3094, 'forgot': 1630, 'spit': 3522, 'ryme': 3256, 'luv': 2417, 'ya': 4167, 'linz': 2330, '4e': 254, 'lhudygirlamaya': 2305, 'hate': 1875, 'singer': 3406, 'koean': 2235, 'chainise': 896, 'ana': 524, 'sucks': 3620, 'dick': 1230, 'kind': 2216, 'launchpad': 2274, 'subs': 3598, 'spot': 3532, 'easily': 1353, 'care': 863, 'bother': 774, '강남스타일': 4217, 'youtu': 4192, '9bzkp7q19f0': 373, 'shufflin': 3386, 'krean': 2244, 'joking': 2161, 'hacked': 1839, 'certain': 891, 'did': 1232, 'buy': 835, 'freemyapps': 1649, 'url': 3905, '10b35481': 41, 'ahhh': 482, 'ago': 477, 'wet': 4066, 'seal': 3300, 'model': 2577, 'contest': 1056, 'instagram': 2077, 'username': 3913, 'destinyforever_': 1221, 'wetseal': 4067, 'modelsearch15': 2578, 'html': 1972, 'break': 792, 'katie': 2191, 'reach': 3106, 'downloads': 1298, 'ww': 4153, 'estiloproduction': 1442, 'simply': 3402, 'michael': 2531, 'age': 476, 'terrance': 3719, 'serving': 3335, 'country': 1075, 'anymore': 552, 'shuffled': 3384, 'listening': 2337, 'illness': 2021, 'spreading': 3540, 'damn': 1155, 'marian': 2460, 'venezuela': 3940, 'cubik': 1119, 'singing': 3408, 'cause': 873, 'wanted': 4019, 'lot': 2388, 'xoxo': 4161, 'ps': 3042, 'friends': 1661, 'haha': 1843, 'lol': 2363, 'image': 2029, 'thingie': 3747, 'guy': 1829, 'warring': 4026, 'robot': 3229, 'confirmed': 1038, 'nicei': 2687, 'insperasen': 2071, 'plese': 2936, 'slicknick313': 3442, 'ooooo': 2786, 'shuffllllllllllllllllllllllinnnnn': 3388, 'paid': 2821, 'mess': 2519, 'upto': 3902, '35': 208, 'hour': 1966, '4netjobs': 258, 'comfort': 1004, 'currently': 1125, 'hiring': 1925, 'wide': 4080, 'social': 3464, 'media': 2492, 'jobs': 2153, 'sites': 3419, 'prior': 3002, 'experience': 1480, 'begin': 681, 'immediately': 2034, '5000': 265, 'monthly': 2599, 'wasn': 4028, 'protective': 3035, 'geeze': 1720, 'mixtape': 2568, 'sneakiestg': 3461, 'muzik': 2642, 'support': 3641, 'ermail': 1437, 'pl': 2915, 'dolacz': 1281, 'v3veygin': 3925, 'arkglzjqup0': 576, 'awards': 624, 'method': 2523, 'cheat': 919, 'internet': 2093, 'roulette': 3242, 'shady': 3343, 'cutie': 1132, 'xd': 4159, 'ej': 1381, 'ba': 648, 'easy': 1354, 'tvcmcadavid': 3853, 'weebly': 4052, 'opportunity': 2796, 'apprecitate': 569, 'ask': 590, 'copied': 1065, 'yea': 4174, 'came': 849, 'ii': 2015, 'nicer': 2689, 'opinion': 2792, 'segue': 3316, 'ha': 1836, 'marcos': 2458, 'sousa4': 3497, 'fref': 1652, 'ts': 3841, 'daneja': 1162, 'great': 1800, 'buys': 836, 'abomination': 401, 'agree': 478, 'lights': 2311, 'bella': 693, 'diagnosed': 1229, 'wobbler': 4104, 'syndrome': 3675, 'afford': 467, 'mri': 2621, 'surgery': 3648, 'dog': 1278, 'member': 2508, 'family': 1518, 'fear': 1549, 'lose': 2383, 'gofundme': 1762, 'f7ekgw': 1500, 'x3333333333': 4157, 'thepiratebay': 3740, 'se': 3299, 'torrent': 3791, '10626048': 31, 'expendables': 1478, 'dvdscr': 1341, 'leaked': 2284, 'clean': 965, 'xvid': 4162, 'mp3': 2618, 'rarbg': 3100, 'job': 2152, 'trying': 3839, 'skyburst': 3431, 'cancer': 855, 'african': 473, 'entertaining': 1425, 'shotgun': 3379, 'montages': 2597, 'ninja': 2702, 'defuse': 1199, 'trolling': 3829, '23': 144, 'mom': 2585, 'lo': 2360, 'driveshaft': 1319, 'subscriber': 3604, 'mail': 2445, 'hermann': 1908, 'buchmair': 816, 'drunk': 1327, 'clip': 972, 'airplane': 490, 'crashed': 1088, 'land': 2259, 'survive': 3653, 'pet': 2887, 'tiget': 3764, 'kitty': 2222, 'purpy': 3056, 'stand': 3548, 'fave': 1537, 'korean': 2239, 'slut': 3446, 'bitch': 734, 'hyuna': 1992, '33': 202, 'friend': 1660, 'sam': 3268, 'loves': 2399, 'lost': 2386, 'fudairyqueen': 1675, 'pnref': 2950, 'story': 3573, 'pleas': 2932, '1billiom': 110, 'decided': 1187, 'shakifans': 3347, 'close': 973, 'replay': 3173, 'button': 833, 'sister': 3415, 'received': 3122, '23active': 145, 'active': 431, 'right': 3204, 'pimpmyviews': 2909, 'kq6zr6kcpj8': 2243, '2m19s': 182, '19': 104, '2asfn9shghk': 174, 'supporters': 3643, 'small': 3449, 'youtuber': 4196, 'upload': 3898, 'nearly': 2662, 'shikas': 3365, 'mins': 2553, 'view': 3960, 'anime': 541, 'pretty': 2997, 'sure': 3647, 'kid': 2206, 'cudi': 1120, 'xytcq5nzmua': 4166, '6381501': 308, 'timothy_sykes_collection': 3768, 'viewed': 3961, 'maybe': 2480, 'deazy99': 1184, 'millions': 2541, 'decent': 1186, 'following': 1619, 'press': 2996, 'true': 3832, 'bless': 742, 'rage': 3082, 'comes': 1003, 'rocks': 3234, 'kids': 2208, 'discover': 1251, 'moroccan': 2605, 'linkbucks': 2328, 'acn2g': 424, 'musicvideo': 2638, 'celebration': 884, 'vanoss': 3932, 'steps': 3563, 'gangman': 1706, 'sty': 3593, 'rhinnah': 3197, 'notice': 2725, 'megan': 2500, 'fox': 1638, 'bands': 658, 'killtheclockhd': 2215, 'including': 2047, 'disguise': 1254, 'yeat': 4178, 'words': 4119, 'hole': 1937, 'twitch': 3857, 'tv': 3852, 'tareko100': 3693, 'enter': 1421, 'keyword': 2203, '5800': 288, 'winning': 4094, 'expensive': 1479, 'gun': 1824, 'csgo': 1116, 'sell': 3321, 'steam': 3559, 'market': 2464, 'super': 3634, 'cup': 1121, 'roar': 3222, 'official': 2758, 'cevxzvsjlk8': 893, 'yrs': 4199, 'health': 1889, 'scare': 3286, 'thankfully': 3730, 'okay': 2768, 'realized': 3113, 'living': 2347, 'fullest': 1679, 'mission': 2560, 'die': 1236, 'happy': 1865, 'accomplished': 417, 'spamming': 3506, 'motivate': 2610, 'bored': 771, 'php': 2898, '4483179854075': 242, 'set': 3336, 'vb': 3935, '1727483389': 101, 'sooooo': 3482, 'autotuned': 618, 'evil': 1460, 'farrell': 1528, 'report': 3176, 'net': 2675, 'ex': 1461, 'police': 2955, 'intelligence': 2088, 'analyst': 526, 'whistleblower': 4072, 'tony': 3785, 'exposes': 1487, 'horrific': 1960, 'monstrous': 2595, 'perpetrated': 2881, 'criminals': 1103, 'operating': 2790, 'crimes': 1101, 'mainstream': 2446, 'entertainment': 1426, 'law': 2277, 'firms': 1598, 'protect': 3034, 'children': 933, 'devils': 1225, 'brutally': 812, 'target': 3694, 'innocent': 2064, 'linked': 2329, 'london': 2364, 'attacks': 601, '2005': 123, 'viral': 3972, 'column': 995, '31st': 197, 'january': 2133, '2013': 133, 'shhort': 3364, 'g8ix5ctkd': 1690, 'hay': 1882, 'dakota': 1154, 'earned': 1348, 'subscribee': 3602, 'mmph': 2574, 'goot': 1782, 'lip': 2332, 'synch': 3674, 'terrible': 3720, 'vimeo': 3966, '106865403': 33, 'remind': 3161, 'tiger': 3762, 'spirit': 3520, 'animal': 536, 'rape': 3090, 'cheating': 920, 'basically': 667, 'wierd': 4081, 'newest': 2681, 'memories': 2511, 'martin': 2469, 'luther': 2416, 'king': 2218, 'jr': 2167, 'aiiima': 485, 'plzzz': 2945, 'c3': 841, '89c': 355, 'b8l': 647, 'ce': 878, 'b5': 644, 'al': 492, 'ma': 2431, 'b7b': 646, 'b5t': 645, '302703146601369': 192, 'gives': 1750, 'chills': 935, 'depth': 1213, 'fashions': 1531, 'blog': 745, 'sinar': 3404, 'jahitan': 2129, 'collections': 989, 'tqvm': 3803, 'funnytortspics': 1686, '112720997191206369631': 47, 'post': 2971, 'tend': 3716, 'skip': 3427, 'room': 3238, 'progressive': 3023, 'house': 1968, 'deep': 1194, 'dubstep': 1330, 'chillstep': 936, 'producer': 3013, 'town': 3799, 'missouri': 2562, 'community': 1016, 'critiquing': 1106, 'gotten': 1790, '10': 17, 'months': 2600, 'content': 1055, 'satisfying': 3275, 'able': 399, 'pester': 2886, 'gimme': 1738, 'watched': 4034, 'script': 3297, 'gt': 1815, 'document': 1273, '_self': 387, 'rover': 3244, '710': 319, '53481': 279, '19255': 105, 'icep_ff3': 1998, 'pub': 3048, '5575096797': 283, 'toolid': 3788, '10001': 25, 'campid': 853, '5337555197': 278, 'customid': 1130, 'bogdan': 758, 'grigore': 1806, 'ipn': 2105, 'psmain': 3044, 'icep_vectorid': 1999, '229508': 143, 'kwid': 2246, '902099': 361, 'mtid': 2627, '824': 338, 'kw': 2245, 'lg': 2304, 'arive': 575, 'img': 2032, 'decoration': 1190, 'border': 769, 'padding': 2816, 'margin': 2459, 'src': 3545, 'roverimp': 3245, 'ff3': 1571, 'mpt': 2620, 'math': 2475, 'floor': 1609, 'random': 3085, '999999999': 372, 'noscript': 2721, 'cachebuster': 845, 'dark': 1167, 'horse': 1961, 'ahead': 481, 'roughly': 3241, '50': 263, 'prpeedmmmq0': 3041, 'lmfaois': 2352, 'reunion': 3189, 'june': 2174, '27': 170, 'expo': 1485, 'idaho': 2001, 'gardens': 1711, 'performe': 2877, 'conference': 1035, 'questions': 3072, 'publishing': 3051, 'rights': 3206, 'yes': 4181, 'screw': 3295, 'chinese': 938, 'crap': 1086, 'understand': 3876, 'saying': 3283, 'speaking': 3511, 'english': 1413, 'dressed': 1311, 'moneygq': 2590, 'wazzasoft': 4046, 'industry': 2057, 'sertave': 3334, 'tendency': 3717, 'order': 2798, 'humor': 1981, 'unelind': 3879, 'operation': 2791, 'feandra': 1548, 'chorenn': 943, 'oleald': 2775, 'claster': 964, 'nation': 2657, 'roll': 3235, 'fuffapster': 1677, 'competition': 1022, 'ociramma': 2752, 'quality': 3070, 'beaties': 676, 'quite': 3077, 'succumbs': 3617, 'probably': 3008, 'male': 2453, 'reminds': 3162, '2x10': 186, 'avoid': 622, 'baby': 651, 'group': 1807, 'leader': 2280, 'angel': 533, 'rookie': 3237, 'members': 2509, 'chanicka': 905, 'julie': 2172, 'stephanie': 3562, 'leah': 2283, 'notch': 2723, 'singers': 3407, 'auditioning': 609, 'management': 2456, 'plan': 2917, 'jyp': 2185, 'bighit': 717, 'jellyfish': 2141, 'yg': 4184, 'sm': 3447, 'taking': 3681, 'firepa': 1596, 'lake': 2255, 'busyglide': 830, 'sasaroo': 3273, 'sore': 3488, 'chillpal': 934, 'axiomatic': 636, 'naperone': 2655, 'mere': 2517, 'undesirable': 3878, 'agreeable': 479, 'encouraging': 1407, 'imperfect': 2035, 'roasted': 3225, 'insidious': 2070, 'modgone': 2581, 'quickest': 3074, 'trelod': 3820, 'keen': 2198, 'fresh': 1657, 'economic': 1361, 'bocilile': 756, '800': 335, 'human': 1978, 'folly': 1620, 'history': 1927, 'let': 2298, 'dislikes': 1257, 'fail': 1510, 'ready': 3111, 'fanboys': 1522, 'antrobofficial': 549, 'korea': 2238, 'republic': 3177, 'waratel': 4022, 'misty': 2564, 'exciting': 1468, 'swoquix': 3671, 'acaer': 412, 'tupacase': 3847, 'arrowgance': 580, 'lively': 2344, 'idiotic': 2005, 'ablaze': 398, 'crabby': 1083, 'aloidia': 506, 'cheilith': 928, 'useless': 3910, 'ploosnar': 2939, 'metal': 2522, 'needed': 2665, 'mil': 2536, 'tango': 3688, 'switch': 3669, 'fairrrrrrr': 1512, 'justin': 2182, 'bieber': 712, 'medication': 2494, 'half': 1851, 'wited': 4100, 'alfred': 497, 'sadly': 3262, 'hog': 1936, 'swamp': 3662, 'eating': 1357, 'disorder': 1259, 'filled': 1585, 'sassy': 3274, 'mice': 2530, 'flaming': 1601, 'cheetos': 927, 'eat': 1356, 'power': 2983, 'samurman': 3270, 'itunes': 2119, 'giftcard': 1737, 'codes': 982, 'oocnjqu2b': 2785, 'open': 2787, 'guruofmovie': 1825, 'admire': 449, 'creativity': 1093, 'nonsense': 2715, 'mobile': 2575, 'tech': 3706, 'comparisons': 1021, 'review': 3192, 'comparison': 1020, 'trop': 3831, 'fort': 1633, 'votre': 3994, 'rihana': 3207, 'didn': 1234, 'rid': 3203, 'static': 3555, 'fantastic': 1525, 'jap': 2134, 'piece': 2905, 'worthless': 4134, 'fish': 1599, 'dumb': 1335, 'untanlted': 3890, 'gook': 1776, 'isnt': 2112, 'fucken': 1672, 'fucked': 1671, 'roaaaaarrrrrr': 3219, 'nirvana': 2704, 'trust': 3835, 'pass': 2841, 'advertisements': 460, 'animator': 540, 'animation': 538, 'prove': 3039, 'reason': 3118, 'couple': 1077, 'exceptions': 1467, 'taylor': 3700, 'swift': 3666, 'lile': 2322, 'modern': 2579, 'say': 3281, 'goosebumps': 1781, 'inspiring': 2076, 'intention': 2090, 'annoyed': 543, 'writer': 4145, 'exact': 1462, 'types': 3863, 'doesn': 1276, 'killing': 2214, 'importantly': 2037, 'focuses': 1614, 'lyricism': 2426, 'wouldnt': 4136, 'boys': 782, 'dna': 1270, 'andrew': 530, 'guasch': 1820, 'hip': 1921, 'hop': 1950, 'alive': 499, 'looks': 2370, 'prehistoric': 2992, 'pleasure': 2935, 'hearing': 1892, 'born': 773, 'generation': 1725, 'sevadus': 3338, 'later': 2268, 'axy665': 637, 'plz': 2943, 'girls': 1745, 'reaction': 3107, 'instrumental': 2083, 'songwriter': 3477, 'columbus': 994, 'mississippi': 2561, 'highly': 1917, 'adam': 439, 'whitney': 4074, 'pleaase': 2931, 'searching': 3303, 'marketglory': 2466, 'strategygame': 3577, 'lordviperas': 2381, '17yr': 102, 'exposure': 1488, 'belgium': 688, 'speaks': 3512, 'resort': 3180, 'gay': 1717, 'tracks': 3805, 'audio': 604, 'invest': 2096, 'equipment': 1435, 'response': 3183, 'advance': 458, 'notorious': 2727, 'niko': 2700, 'wahoo': 4007, 'los': 2382, 'invito': 2101, 'subscribirse': 3608, 'mi': 2528, 'canal': 854, 'lovely': 2396, 'change': 903, 'curti': 1128, 'demiilovatofas': 1206, 'hl': 1932, 'frases': 1643, 'secretas': 3310, '448800865296855': 243, '2011': 129, 'means': 2488, 'mê': 2648, 'itz': 2120, 'recaps': 3120, 'diddle': 1233, 'swear': 3663, 'keeps': 2199, 'gorgeous': 1785, 'definitely': 1196, 'hair': 1847, 'curly': 1123, 'feels': 1560, 'emotions': 1401, 'aware': 625, 'repass': 3171, '4shared': 260, 'preview': 2999, 'pdf': 2861, 'cjfoftxeba': 957, '860': 345, 'lets': 2299, 'dreams': 1308, 'kidsmediausa': 2209, '107297364': 34, 'hav': 1879, 'absolutely': 404, 'idea': 2002, 'language': 2262, '5million': 294, '279': 171, '898': 353, 'users': 3914, 'fake': 1514, 'account': 418, 'tsu': 3842, 'emerson_zanol': 1392, '1337': 62, '14': 84, 'dreamers': 1306, 'ourself': 2808, 'game': 1697, 'thankss': 3732, 'watchin': 4035, 'brah': 785, 'lover': 2397, 'feed': 1555, 'blow': 750, 'mathster': 2476, 'wp': 4139, '1495323920744243': 90, 'tattoo': 3696, 'tricep': 3823, 'wats': 4038, 'da': 1147, 'ik': 2017, 'vídeo': 4001, '02': 4, 'camera': 850, 'glasses': 1755, 'vids': 3957, 'promos': 3028, 'kill': 2212, 'ur': 3903, 'exactly': 1463, 'favourite': 1542, 'rappers': 3096, 'mighty': 2535, 'ad': 438, 'road': 3221, 'recovery': 3130, 'chanell': 902, '26032883': 168, 'comprehend': 1028, 'miley': 2538, 'cyrus': 1140, 'high': 1915, 'profile': 3017, 'tapes': 3692, 'banging': 661, 'leeched': 2291, 'sucking': 3619, 'posted': 2973, 'celebrity': 885, 'celeb': 881, 'news': 2682, 'ｄａｍｎ': 4220, 'ｔｈｉｓ': 4226, 'ｃｏｍｍｅｎｔ': 4219, 'ｉｓ': 4224, 'ｆａｎｃy': 4222, 'soundsofsunday': 3495, 'blue': 752, 'eyes': 1497, 'trusted': 3836, 'uranus': 3904, 'america': 518, 'spent': 3518, 'minute': 2554, 'srilanka': 3546, '18': 103, 'sooo': 3481, 'rate': 3101, 'helped': 1901, 'feeling': 1559, 'lv': 2420, 'onece': 2781, 'yay': 4171, '11th': 49, 'commenter': 1010, 'donate': 1288, 'bitcoins': 735, '1fhenqx1twqm153v2ptayiejnealahzvem': 113, 'deserves': 1218, '1b': 108, 'subscribing': 3607, 'sound': 3491, 'liers': 2307, 'stop': 3571, 'treating': 3818, 'suck': 3618, 'empowering': 1404, 'woman': 4106, 'chanel': 901, 'earn': 1347, 'investment': 2097, 'link': 2327, 'therglove': 3744, 'blogspot': 747, '08': 11, 'post_10': 2972, 'interested': 2091, 'extra': 1492, 'use': 3907, 'swagbucks': 3660, 'refer': 3137, 'nonturtle02': 2716, 'dickwad': 1231, 'africans': 474, 'colour': 993, 'skin': 3425, 'tells': 3714, 'long': 2365, 'ancestors': 528, 'left': 2292, 'baba': 649, 'brinkman': 801, '5tu9gn1l310': 297, 'katycats': 2195, 'releasing': 3155, 'movie': 2616, 'midnight': 2534, 'celebrate': 882, '30th': 193, 'birthday': 730, 'raw': 3103, 'talent': 3682, 'straight': 3575, 'dizzy': 1268, 'juice': 2171, 'prod': 3011, 'drugs': 1324, 'citizen': 956, 'lazy': 2278, 'prophetz': 3033, 'flute': 1612, 'dedicated': 1192, 'verse': 3943, '41': 234, 'missing': 2559, 'journey': 2163, 'gooooood': 1779, 'rapid': 3092, 'colors': 992, 'characterized': 911, 'fast': 1532, 'beauty': 680, 'download': 1296, 'magicdroid': 2439, 'rants': 3088, 'vi': 3949, 'gp': 1792, 'offer': 2756, 'listing': 2338, 'b00ecvf93g': 641, 'sr': 3543, 'qid': 3066, '1415297812': 86, 'olp_tab_refurbished': 2777, 'condition': 1034, 'refurbished': 3141, '3m': 226, 'story_fbid': 3574, '764484966942313': 329, '754989901225153': 328, 'stream': 3579, 'gf': 1731, 'wife': 4083, 'earns': 1350, '4000dollars': 232, 'wwhore': 4154, 'wages': 4006, 'pc': 2858, 'surveys': 3651, 'yahoo': 4169, 'legit': 2293, 'msg': 2624, 'vulnerable': 4000, 'memorized': 2512, 'guarantee': 1818, 'ah': 480, 'prioritize': 3003, 'flight': 1604, 'searchs': 3304, 'polish': 2956, 'zip': 4210, 'omniscient': 2779, 'entire': 1428, 'stay': 3557, 'strength': 3582, 'known': 2230, 'meaning': 2486, 'piss': 2911, 'water': 4037, 'toilet': 3779, 'quiet': 3076, 'edm': 1367, 'apparel': 560, 'bringing': 799, 'inspired': 2075, 'designs': 1219, 'clothing': 976, 'rave': 3102, 'festival': 1570, 'neon': 2670, 'crop': 1109, 'tops': 3790, 'tank': 3689, 'shirts': 3367, 'necks': 2663, 'accessories': 415, 'instagraml': 2078, 'giveaways': 1748, 'oncueapparel': 2780, 'classsic': 963, 'bulgaria': 821, 'salt': 3266, 'westerners': 4065, 'goes': 1761, 'soooooooooooooooooooooooooooooooooooooooo': 3485, 'xxx': 4165, 'aye': 638, 'homies': 1943, 'cent': 887, 'line': 2325, 'ways': 4044, 'goodbye': 1772, 'ayyy': 639, 'juss': 2178, 'tryna': 3840, 'chrck': 946, 'island': 2110, 'dated': 1169, 'claire': 960, 'selfie': 3320, 'alert': 495, 'different': 1238, 'spending': 3517, 'languages': 2263, 'sunfrogshirts': 3630, 'sunglass': 3631, '24398': 158, 'brand': 788, 'adult': 456, 'screwing': 3296, 'black': 737, 'basketball': 668, 'eu': 1447, 'pn': 2949, 'wat': 4032, 'katty': 2192, 'fragile': 1640, 'swim': 3667, 'enlist': 1419, 'ice': 1997, 'audit': 606, 'frequent': 1656, 'son': 3473, 'describes': 1215, 'skits': 3428, 'dylan': 1342, 'irl': 2108, '1030': 29, 'photograph': 2896, 'husky': 1987, 'breath': 795, 'act': 428, 'retain': 3186, 'delightful': 1204, 'rhythm': 3199, 'fabricates': 1502, 'scintillating': 3291, 'harbor': 1866, 'aswell': 599, 'passion': 2843, 'women': 4108, 'losing': 2384, 'loving': 2402, 'lies': 2308, 'chhanel': 930, 'posting': 2975, 'kevin': 2201, 'hart': 1871, 'realkevinheart': 3114, 'secret': 3309, 'suffering': 3623, 'brain': 786, 'tumor': 3845, 'lucks': 2408, 'jenny': 2142, 'school': 3288, 'dresses': 1312, 'fashionable': 1530, 'cute': 1131, 'clothes': 975, 'low': 2403, 'self': 3319, 'esteem': 1441, 'dad': 1150, 'passed': 2842, 'figure': 1580, 'brothers': 808, 'older': 2772, 'wear': 4048, 'boyfriend': 781, 'shy': 3389, 'confidence': 1037, 'talk': 3685, 'caroline': 866, 'moved': 2613, 'shop': 3375, 'walmart': 4013, 'nails': 2651, 'salon': 3265, 'alot': 507, 'french': 1655, 'tips': 3770, 'nail': 2649, 'curled': 1122, 'dressprettyonce': 1313, 'finish': 1594, 'dissertation': 1261, 'laugh': 2271, 'roaaarrr': 3220, 'charley': 913, '12': 50, 'yr': 4198, 'chiptunes': 940, '8bit': 358, 'wonderful': 4111, 'checked': 923, 'remixes': 3166, 'gangnamstyle': 1708, '5th': 296, 'point': 2953, 'stfu': 3567, 'disclose': 1249, 'macho': 2435, 'lift': 2310, 'letter': 2300, 'frame': 1641, 'thundering': 3760, 'prevent': 2998, 'conscious': 1047, 'memory': 2513, 'kyle': 2247, 'sick': 3391, 'flow': 1610, 'aftermath': 475, 'tde': 3702, 'disliked': 1256, 'shrek': 3382, 'folks': 1615, 'dislike': 1255, 'enimen': 1414, 'dj': 1269, 'feelz': 1561, 'sleeping': 3438, 'planet': 2919, 'retards': 3187, 'card': 861, 'x6j4gbrne': 4158, '10200253113705769': 28, '201470069872822': 135, 'permpage': 2880, 'christmas': 950, 'kitten': 2221, '6th': 316, 'grade': 1795, 'teacher': 3703, 'looked': 2368, 'officialpsy': 2759, 'span': 3507, 'proflinkwrapper': 3021, 'proflinkprefix': 3020, 'proflink': 3019, '104999962146104962510': 30, 'oid': 2765, 'supermariologan': 3637, 'thot': 3751, 'dudes': 1332, 'awsome': 634, 'incmedia': 2048, 'org': 2800, 'meets': 2498, 'hire': 1924, 'thanx': 3733, 'swag': 3659, 'binbox': 727, 'io': 2102, '1firo': 114, '123': 51, 'jungle': 2175, 'happens': 1863, 'survival': 3652, 'dear': 1181, 'ilovethissong': 2025, 'supt': 3646, 'fils': 1589, 'du': 1329, 'hostile': 1962, 'woobox': 4113, '33gxrf': 206, 'brt0u5': 811, 'cs': 1115, 'passionate': 2844, 'sex': 3339, 'giant': 1734, 'pushes': 3059, 'giving': 1751, 'ambition': 515, 'gwar': 1833, 'superbowl': 3636, 'petitions': 2889, 'national': 2658, 'league': 2282, 'allow': 501, 'perform': 2875, 'bowl': 777, 'halftime': 1852, 'jacket': 2126, 'sleeve': 3439, 'sleeveless': 3440, 'arm': 577, 'gold': 1765, '25000': 163, 'splashes': 3523, 'nuts': 2740, 'figured': 1581, 'supposed': 3644, 'ballad': 655, 'uplifting': 3897, 'motivating': 2611, 'end': 1408, 'final': 1590, 'chorus': 944, 'umph': 3869, 'sounds': 3494, 'instead': 2081, 'crescendo': 1096, 'ing': 2060, 'powerful': 2984, 'says': 3284, 'wavelength': 4042, 'falls': 1515, 'flat': 1602, 'shot': 3378, 'sec': 3306, 'boobs': 762, 'magically': 2438, 'bigger': 716, 'suddenly': 3622, 'dude': 1331, 'practically': 2987, 'vanishes': 3931, 'votekatyperry': 3992, 'mtv': 2628, 'vma': 3986, 'lyric': 2423, 'lead': 2279, 'ut15kx': 3919, 'sign': 3394, 'wholehearted': 4076, 'discrimination': 1252, 'united': 3884, 'bring': 798, 'impossible': 2038, 'possible': 2969, 'winners': 4093, 'success': 3615, 'cheers': 926, 'sisters': 3416, 'tinyurl': 3769, 'dot': 1294, 'slash': 3436, 'mxh2y77': 2644, 'musique': 2639, 'anthem': 548, 'lauren': 2276, 'bennett': 699, 'goo': 1770, 'box': 778, 'moves': 2615, 'wasting': 4031, '2009': 125, 'took': 3787, 'gaming': 1703, 'art': 581, 'scientific': 3290, 'experiments': 1481, 'tutorials': 3851, 'expectations': 1476, 'outs': 2810, 'knew': 2225, 'certification': 892, 'educated': 1368, 'criminal': 1102, 'field': 1576, 'worldwide': 4127, 'rich': 3200, 'entertainers': 1424, 'consolidating': 1049, 'actors': 434, 'actresses': 435, 'profit': 3018, 'dhg': 1228, 'bunch': 823, 'rtbf': 3248, 'emission': 1398, 'detail_the': 1222, 'belgique': 687, 'toutes': 3797, 'les': 2297, 'auditions': 610, 'auditiondetail_': 608, 'emissionid': 1399, '3873': 214, '342': 207, 'join': 2157, 'liked': 2314, 'shared': 3356, 'audition': 607, 'score': 3294, 'favor': 1539, 'nelson': 2668, 'congrasulation': 1040, 'en': 1405, 'prothom': 3037, 'alo': 505, 'sport': 3531, '53331': 277, 'zimbabwe': 4209, 'dhaka': 1227, 'wednesday': 4051, '851': 343, '247': 160, '920': 365, 'melhor': 2506, 'inscreva': 2068, 'meu': 2524, 'por': 2964, 'obrigado': 2748, 'mejor': 2504, 'si': 3390, 'suscriba': 3655, 'gracias': 1794, 'meilleur': 2503, 'vidéo': 3959, 'vous': 3996, 'abonner': 402, 'chaîne': 917, 'il': 2018, 'plaît': 2929, 'merci': 2515, 'andrijamatf': 531, 'coby': 979, 'usl': 3917, '1hmvtx': 115, 'delete': 1201, 'equals': 1434, 'smartie': 3453, 'pants': 2830, 'poeple': 2952, 'et': 1445, 'belle': 694, 'chanson': 909, 'activates': 430, 'reflective': 3140, 'distribution': 1262, 'normal': 2718, 'synthesizes': 3676, 'victorious': 3951, 'plant': 2920, 'entertains': 1427, 'finally': 1591, 'spongebob': 3526, 'yesterday': 4182, 'mammoth': 2454, 'waste': 4029, 'achieve': 420, 'shock': 3372, 'reduce': 3133, 'delicate': 1202, 'meaty': 2491, 'scale': 3285, 'adapt': 440, 'oil': 2766, 'avaaz': 619, 'po': 2951, 'petition': 2888, 'youtube_corporation_fox_broadcasting_company_anular_os_strikes_no_canal_nostalgia': 4195, 'cxpzpgb': 1135, 'unique': 3882, 'angry': 535, 'horrible': 1959, 'acting': 429, 'cringe': 1104, 'worhty': 4120, 'lexis': 2303, 'uploading': 3900, 'takes': 3680, 'men': 2514, 'naive': 2652, 'idiots': 2006, 'believing': 692, 'respect': 3181, 'fulfilling': 1678, 'drama': 1303, 'fee': 1554, 'mgtow': 2526, 'channels': 907, 'chose': 945, 'information': 2059, 'caution': 874, 'disposable': 1260, 'providers': 3040, 'utility': 3921, 'killed': 2213, 'versace': 3942, 'cge': 894, 'freestyle': 1650, 'ja': 2123, 'wan': 4014, 'gardner': 1712, 'increible': 2052, 'hackfbaccountlive': 1841, '4344749': 238, 'definitley': 1198, '2010': 128, 'gypsy': 1834, '101721377578919894134': 27, 'shakiravevo': 3350, 'dress': 1310, 'kpopcity': 2242, 'largest': 2266, 'discount': 1250, 'fashion': 1529, 'hollywood': 1938, 'collection': 988, 'stars': 3550, 'central': 888, 'paragraph': 2832, 'cece': 880, 'dead2me': 1177, 'partyman318': 2840, 'fr': 1639, 'tunez': 3846, 'hilarious': 1919, 'doesnt': 1277, 'noise': 2711, 'minhateca': 2550, 'mauro': 2479, 'sp2013': 3499, 'filmes': 1587, 'series': 3331, 'desenhos': 1216, 'animes': 542, '884': 351, '034': 5, '783': 331, 'count': 1072, 'stil': 3569, 'lisening': 2333, 'peoples': 2872, 'form': 1631, 'leisure': 2294, 'cease': 879, 'reveling': 3190, 'behold': 684, 'murder': 2634, 'night': 2696, 'plot': 2940, 'neighbor': 2667, 'commit': 1014, 'clap': 961, 'hands': 1858, 'wickedness': 4079, 'celebrated': 883, 'openly': 2789, 'streets': 3581, 'perverse': 2885, 'abominable': 400, 'shall': 3352, 'repay': 3172, 'word': 4118, 'lord': 2380, 'trumpetcallofgodonline': 3834, 'penny': 2869, '600': 299, 'yfuy4gkr1c': 4183, 'thx': 3761, '100007085325116': 24, 'opponents': 2795, 'mm': 2572, 'spirits': 3521, 'student': 3589, 'foward': 1637, 'lana': 2258, 'del': 1200, 'rey': 3195, 'drake': 1302, 'macklemore': 2436, 'pink': 2910, 'countless': 1073, 'inspire': 2074, 'fyi': 1688, 'freedom': 1648, 'speech': 3514, 'psn': 3045, 'code': 981, 'xxbb5tczhm39hvzd': 4164, 'dnckm': 1271, 'qt4q1jb1': 3068, 'bigboss286': 714, 'fablife': 1501, 'diys': 1267, 'challenges': 898, 'large': 2265, 'convinced': 1059, 'laura': 2275, 'belarus': 686, 'looooved': 2376, 'loon': 2372, '857': 344, '482': 250, '940': 369, '171183229277': 100, 'gorlin': 1786, 'goltz': 1767, 'gorlingoltzsupport': 1787, 'popaegis': 2960, 'wrenn': 4142, 'almond': 504, 'queen': 3071, 'jackson': 2127, 'dundundunnn': 1336, 'wants': 4020, 'theme': 3737, 'insult': 2084, '28': 172, 'relate': 3152, 'daughter': 1171, '4604617': 247, 'f0llowshoutouts': 1498, 'aren': 573, '1m': 117, 'crdits': 1090, 'app': 559, '5af506e1': 289, 'nereboy': 2673, 'lostproduce': 2387, 'atlastatlas': 600, 'jkork': 2148, 'message': 2520, 'visits': 3980, 'thousands': 3755, 'china': 937, 'videoes': 3954, 'boring': 772, 'asinine': 589, 'divorce': 1266, 'wave': 4040, 'shitty': 3369, 'stick': 3568, 'silly': 3399, 'putty': 3061, 'uploaded': 3899, 'katyperryvevo': 2196, 'axeljonssons': 635, 'hiphop': 1922, 'express': 1489, '704682339621282': 318, 'subcribe': 3596, '17': 99, 'remixer': 3165, 'raps': 3098, 'nigger': 2695, 'fools': 1624, 'mix': 2566, 'soooooooooooooooooooooooooooooooooooooooooooooooooo': 3486, 'duel': 1333, 'mcashim': 2484, 'adsense': 455, 'morgage': 2603, 'britishs': 803, 'foot': 1625, 'rugby': 3250, 'euw': 1450, 'germany': 1728, 'netherland': 2676, 'france': 1642, 'portugal': 2967, 'spain': 3502, 'refused': 3142, 'euro': 1449, 'treu': 3822, 'detective': 1224, 'alternate': 509, 'ending': 1410, 'funnyordie': 1685, 'd15fb87973': 1142, 'defectives': 1195, 'females': 1567, 'meat': 2490, 'discusss': 1253, 'peaceful': 2864, 'unit': 3883, 'arbitrate': 572, 'guide': 1822, 'addition': 444, 'worried': 4129, 'loss': 2385, 'micheal': 2532, 'authenticviews': 614, 'faded': 1509, 'ans': 546, 'melody': 2507, 'growing': 1810, 'conqueror': 1046, 'haki': 1850, 'instantly': 2080, 'boooobs': 767, 'subscribes': 3606, 'aaas': 395, '25874': 165, '2177367': 142, 'sheldon': 3361, 'monster': 2594, 'afraid': 471, 'hiya': 1930, 'xx': 4163, 'cap': 858, 'swagfriends': 3661, 'movement': 2614, 'οh': 4214, 'vevo': 3947, 'congrats': 1041, 'applause': 562, 'admitting': 451, 'girlfriend': 1744, 'green': 1803, 'sheep': 3359, 'period': 2879, 'kinda': 2217, 'huh': 1977, 'oldchat': 2771, 'tk': 3775, 'loud': 2390, 'authority': 615, 'improves': 2041, 'canvas': 857, 'repair': 3170, 'uppity': 3901, 'learning': 2288, 'substantial': 3611, 'cook': 1060, 'derives': 1214, 'generate': 1723, 'leads': 2281, 'auto': 616, 'pilot': 2908, 'myleadergate': 2647, 'moretraffic': 2602, '0687119038': 10, 'nummber': 2738, 'patrik': 2848, 'kluivert': 2224, 'damnnnnnnnn': 1156, 'o_o': 2747, 'ferirama': 1569, 'besloor': 701, 'shame': 3354, 'eggmode': 1375, 'reiltas': 3148, 'moderock': 2580, 'plifal': 2937, 'shorogyt': 3376, 'value': 3930, 'qerrassa': 3064, 'qiameth': 3065, 'mogotrevo': 2582, 'hoppler': 1957, 'parede': 2834, 'yboiveth': 4172, 'drirathiel': 1317, 'vena': 3939, 'trojmiasto': 3828, 'bus': 828, 'taxi': 3698, 'o59253': 2746, 'empire': 1403, 'glad': 1753, 'virucide': 3976, '870': 349, '566': 285, 'lanta': 2264, 'remeber': 3158, 'gta': 1816, 'gameplay': 1698, '6_h0m5sayho': 315, 'rekt': 3150, 'mum': 2632, 'nite': 2705, 'cuz': 1133, 'haterz': 1877, 'lik': 2312, 'dis': 1245, 'cri': 1099, 'evertim': 1454, 'sponswer': 3528, 'robox': 3230, 'vidz': 3958, 'indiegogo': 2056, 'projects': 3025, 'dem': 1205, 'moneyz': 2591, 'roblox': 3227, '8851222': 352, 'sturdy': 3592, 'astauand': 598, 'johackle': 2154, 'ethosien': 1446, 'changeable': 904, 'public': 3050, 'noxu': 2729, 'looplab': 2377, 'delicious': 1203, 'false': 1516, 'scitenoa': 3292, 'locobot': 2362, 'heartbreaking': 1894, 'thirsty': 3750, 'reminiscent': 3163, 'producers': 3014, 'tha': 3726, 'fack': 1506, 'nude': 2731, 'mayby': 2481, 'hooker': 1949, 'fifa': 1577, 'goals': 1759, 'vtarggvgtwq': 3999, 'purry': 3057, 'seriously': 3332, 'magnificent': 2440, 'noodile': 2717, 'unequaled': 3880, 'gogopo': 1763, 'lulerain': 2412, 'olielle': 2776, 'zesty': 4208, 'laughable': 2272, 'accidental': 416, 'pepelexa': 2873, 'wiry': 4097, 'toogit': 3786, 'uncovered': 3872, 'chesture': 929, 'woozy': 4117, 'adhoc': 447, 'weak': 4047, 'shallow': 3353, 'nicushorbboy': 2693, 'add': 441, 'mee': 2496, 'guss': 1827, 'worst': 4132, 'fears': 1550, 'abusive': 409, 'towered': 3798, 'invented': 2095, 'formula': 1632, 'inches': 2046, 'research': 3179, 'topic': 3789, 'penis': 2868, 'enlargement': 1418, 'applied': 564, 'inch': 2045, 'results': 3185, 'course': 1078, 'written': 4147, 'issue': 2113, 'asked': 591, 'promote': 3029, 'info': 2058, 'payhip': 2854, 'otib': 2804, 'selling': 3322, 'symbolic': 3672, 'extinct': 1491, 'genocide': 1726, 'balls': 656, 'jam': 2131, 'décio': 1344, 'cabelo': 844, 'decio': 1188, 'homeless': 1941, 'alcoholic': 494, '46': 246, 'invisible': 2099, 'composer': 1027, '109': 40, 'deciocabelo': 1189, 'october': 2753, 'lame': 2256, '2004': 122, 'dafuq': 1151, 'usa': 3906, 'koreans': 2240, 'bomb': 759, 'addicting': 442, 'hook': 1948, 'superr': 3638, 'likeeee': 2316, 'performance': 2876, 'ig': 2011, '__killuminati94': 380, 'polls': 2957, 'utsitcompetition2014': 3922, 'user_link': 3912, 'ref_id': 3136, 'ouxg5e': 2811, 'anand': 527, 'niketan': 2698, 'international': 2092, 'project': 3024, 'dom': 1284, 'loads': 2361, 'collaborator': 987, '23lmfao': 152, 'pause': 2851, 'millisecond': 2543, 'chick': 931, 'tries': 3825, 'aslamu': 593, 'lykum': 2422, 'pakistan': 2824, 'feelin': 1558, 'ghostpoet100': 1733, 'blond': 748, 'subscrib': 3599, 'whats': 4068, 'showcase': 3381, '3000': 190, 'lucas': 2406, 'trigo': 3827, 'plausible': 2922, 'summer': 3627, 'submits': 3597, 'behavior': 683, 'grass': 1796, 'seat': 3305, 'strategizes': 3576, 'edge': 1364, 'follower': 1617, 'lists': 2339, '161620527267482': 97, 'companions': 1017, 'cereal': 890, 'knocks': 2227, 'sun': 3629, 'driving': 1320, 'eliminate': 1385, 'hassle': 1874, 'having': 1881, 'swing': 3668, 'car': 860, 'visor': 3981, 'windshield': 4091, 'window': 4090, 'kickstarter': 2205, '733634264': 322, 'visortwin': 3982, 'berzerk': 700, 'vouchers': 3995, 'juno': 2176, 'wallet': 4012, 'complete': 1025, 'cents': 889, 'im2458444': 2027, 'www10': 4156, 'vakinha': 3928, 'vaquinhae': 3934, 'aspx': 595, '313327': 194, 'vip': 3970, 'cross': 1110, 'paidverts': 2822, 'tomuciux99': 3783, 'esyest': 1444, 'admit': 450, 'viewers': 3963, 'champion': 899, 'positive': 2968, 'blessing': 743, 'healing': 1888, 'creating': 1092, 'awesomeness': 630, 'aaaaaaa': 394, 'lada': 2253, 'jaroadc': 2135, 'fricking': 1659, 'beast': 673, 'anywon': 553, 'herd': 1907, 'rollin': 3236, 'woke': 4105, 'buggti': 819, 'nuketown': 2732, 'shooting': 3374, 'quick': 3073, 'scoping': 3293, 'training': 3810, 'faze': 1543, 'adoult': 453, 'freind': 1653, 'sang': 3272, 'freinds': 1654, 'fun': 1681, 'mediafire': 2493, 'yvovhafsv5qzzqo': 4205, 'rar': 3099, 'ps4': 3043, 'galaxy': 1696, 's4': 3258, 'mini': 2551, '250': 162, 'ipad': 2103, 'hh': 1913, 'nl': 2706, 'respond': 3182, 'enabled': 1406, '4500': 245, 'bucks': 818, '1bsefqe': 112, 'loool': 2373, 'understands': 3877, 'hjalp': 1931, 'conveying': 1058, 'domestic': 1285, 'violence': 3969, 'fictional': 1574, 'exist': 1471, 'lives': 2345, 'abuses': 408, 'chooses': 942, 'sexual': 3341, 'russia': 3254, 'trailer': 3808, 'believemefilm': 690, 'hlr': 1933, 'h2hqbuvb': 1835, 'hack': 1837, '4477063': 240, 'fruits': 1665, 'vegetables': 3938, 'longer': 2366, 'lasting': 2267, 'energy': 1412, 'weight': 4057, 'user': 3911, '36loseweight': 211, 'sup': 3632, 'gus': 1826, 'llikee': 2349, 'beutiful': 707, 'gcmforex': 1719, 'partners': 2837, 'aw': 623, 'task': 3695, 'joint2': 2159, 'affiliateid': 465, '9107': 363, 'pagee': 2819, 'recommend': 3127, 'apple': 563, '4th': 262, 'gen': 1722, '32gb': 201, 'unlocked': 3886, 'wi': 4078, 'fi': 1573, '4g': 255, '7in': 333, 'price': 3000, '390': 217, '385': 212, 'samsung': 3269, 'iv': 2121, '16gb': 98, '360': 209, 'sony': 3478, '3d': 225, 'led': 2290, 'hdtv': 1884, '510': 271, 'pcs': 2860, 'macbook': 2434, 'pro': 3006, 'air': 488, '320': 198, 'nikon': 2701, 'd90': 1146, 'slr': 3445, '55mm': 284, '55': 281, '200mm': 127, 'ultrabooks': 3867, 'vaio': 3927, 'intel': 2087, 'core': 1067, 'i5': 1994, '4gb': 256, '128gb': 56, '515': 272, 'purchase': 3054, 'taaee': 3677, 'rhianna': 3196, 'hes': 1911, 'shes': 3363, 'nokia': 2712, 'spotted': 3534, '131275322914': 60, 'playing': 2925, 'belly': 695, 'copy': 1066, 'danced': 1158, '111982027348137311818': 46, 'g2jvinpuemo': 1689, 'requite': 3178, 'collaboration': 986, 'honest': 1944, 'mediocre': 2495, 'memorable': 2510, 'billie': 722, 'jean': 2138, 'reply': 3175, 'democracy': 1208, 'buzz': 837, '661': 310, 'fireball': 1595, 'fruity': 1666, 'loops': 2378, 'teloa6rio8o': 3715, 'acceptance': 413, 'jt2ufxhxc': 2168, 'viewing': 3964, 'apparently': 561, 'aunt': 611, '4436607': 239, 'offıcal': 2763, 'pleassssssssssssssss': 2934, 'subscribeeeeeeeeee': 3603, 'channnnnnelll': 908, 'plzz': 2944, 'talents': 3684, 'skylar': 3432, 'december': 1185, 'mscalifornia95': 2623, 'nicely': 2688, 'mirror': 2557, 'harry': 1870, 'potter': 2979, 'deathly': 1183, 'hallows': 1854, 'sirius': 3414, 'ching': 939, 'ling': 2326, 'ding': 1242, 'ring': 3210, 'yaaaaaa': 4168, 'ganga': 1704, 'comedy': 1000, 'recipe': 3125, 'tube': 3844, 'pranks': 2988, 'crank': 1085, 'calls': 848, 'duty': 1339, 'aways': 627, '1billion': 111, 'moly': 2584, 'concert': 1031, 'loosing': 2379, 'exagdl': 1464, '936868579660284': 367, '1073741943': 38, '111719098841907': 45, '937732262907249': 368, 'doe': 1274, 'keithlinscotts': 2200, 'haven': 1880, 'tankionline': 3690, 'cd92db3f4': 877, 'disappointed': 1248, '23kinglothedancer': 151, 'kinglothedancer': 2219, 'brazilian': 791, '5242575': 274, 'chacking': 895, 'giver': 1749, 'strong': 3585, 'messages': 2521, 'sean': 3301, 'kingston': 2220, 'inbox': 2043, 'fair': 1511, 'gorg': 1784, 'gbphotographygb': 1718, 'short': 3377, 'funnier': 1683, 'spoken': 3525, 'rapidly': 3093, 'censor': 886, 'julien': 2173, 'blanc': 738, 'tofikmiedzynb': 3778, '1496273723978022': 92, '1073741828': 36, '1496241863981208': 91, '1498561870415874': 93, '127': 55, '315': 196, '950': 370, '10000000': 20, 'butt': 832, 'hurt': 1984, 'incredible': 2051, 'extremely': 1494, 'freyacumqueen': 1658, 'advertising': 462, 'sparks': 3510, 'fly': 1613, 'wisdom': 4098, 'warcraft': 4023, 'gta5': 1817, 'mario': 2461, 'cheats': 921, 'moon': 2601, 'daconnormc': 1149, 'w6gkm': 4002, 'xny2m': 4160, 'mmlp2': 2573, 'ftw': 1668, 'hw': 1988, 'imma': 2033, '200k': 126, 'wooooo': 4116, 'bang': 659, 'happened': 1861, 'phones': 2894, 'shuffles': 3385, 'fight': 1578, 'amendment': 517, 'privacy': 3004, 'nsa': 2730, 'spying': 3541, 'americans': 520, 'patriot': 2849, 'renewal': 3169, 'rand': 3084, 'paul': 2850, 'hours': 1967, 'senate': 3323, 'protest': 3036, 'filibuster': 1584, 'fighting': 1579, 'constitution': 1050, 'founded': 1636, 'cares': 865, 'email': 1390, 'senators': 3325, 'congress': 1043, 'senator': 3324, '1m00s': 118, '00': 0, 'morning': 2604, 'trigger': 3826, '1000000000': 21, 'dances': 1160, '58': 287, 'dakoda': 1153, 'bigelow': 715, '490': 252, 'deaf': 1178, 'moments': 2587, 'greatly': 1802, 'viralangels': 3973, 'd4aaacwk': 1143, 'solve': 3470, 'problems': 3010, 'vn': 3987, 'ibit': 1996, 'applocker': 565, 'kobyoshi02': 2232, 'hyuck': 1991, 'australia': 613, 'bing': 728, 'explore': 1484, 'rewards': 3194, 'publ': 3049, 'referafriend': 3138, 'crea': 1091, 'rrid': 3246, '_0f9fa8aa': 376, '243a': 159, '5c2f': 292, 'c349': 842, 'ede05ea397ca': 1363, 'virus': 3977, 'surveymonkey': 3650, 'cvhmklt': 1134, 'animals': 537, 'pleasant': 2933, 'youtub': 4193, 'sold': 3467, 'teespring': 3710, 'treechristmas': 3819, 'bubblews': 815, '9277547': 366, 'brotherhood': 807, 'shaking': 3348, 'firework': 1597, '500m': 267, 'birtgday': 729, 'tabs': 3678, 'browser': 810, '30': 188, 'artists': 585, 'section': 3312, 'partying': 2839, 'aseris': 586, 'jlimvuth': 2149, 'emas': 1391, 'mtvema': 2629, 'i38xh1': 1993, 'network': 2678, 'register': 3144, 'difference': 1237, 'sharing': 3358, 'commenting': 1011, 'liking': 2319, 'slema13': 3441, 'wellcome': 4060, 'mahogany': 2442, 'lmao': 2350, 'uncle': 3871, 'hahah': 1845, 'poverty': 2982, 'cyber': 1136, 'pan': 2827, 'handleing': 1857, '8692160': 347, 'auburn': 603, 'pride': 3001, 'tigermeathoodie': 3763, 'tuto': 3850, 'usually': 3918, 'drones': 1322, 'kamal': 2188, 'tayara': 3699, 'drone': 1321, 'camp': 852, '0laviqu2b': 16, 'chubbz': 952, 'dinero': 1241, 'odowd': 2755, 'crowd': 1111, 'zombie': 4211, 'abused': 407, 'mistreated': 2563, 'fund': 1682, 'helping': 1903, 'vet': 3946, 'bills': 726, 'homes': 1942, 'emphasis': 1402, 'disabled': 1246, 'ones': 2782, 'sleep': 3437, 'organizations': 2801, 'angels': 534, 'wingz': 4092, 'jims': 2146, 'ear': 1346, 'fu': 1669, 'cking': 958, 'awesom': 628, 'jormis': 2162, 'craft': 1084, 'shoot': 3373, 'spammed': 3504, 'everyones': 1458, 'lool': 2371, 'confusing': 1039, 'throw': 3756, 'beibs': 685, 'capitalized': 859, 'ouf': 2806, 'ouffffffffffffffffff': 2807, 'hottest': 1965, 'hairstyles': 1848, 'trends': 3821, 'upgrade': 3895, 'senses': 3328, 'higher': 1916, 'level': 2302, 'gl': 1752, 'bxrosr': 840, 'inspirational': 2073, 'achieved': 421, 'couldn': 1070, '1min': 119, 'thankful': 3729, 'ty': 3860, 'customers': 1129, 'greenleader': 1804, 'block': 744, 'saturday': 3276, 'postponing': 2976, 'week': 4053, 'ht': 1971, 'joining': 2158, 'fright': 1663, 'kidz': 2210, 'billon': 725, 'millon': 2544, 'facts': 1508, 'translate': 3813, '21': 140, 'recentley': 3123, 'surpassing': 3649, 'justing': 2183, 'beating': 677, 'stuck': 3588, 'excuse': 1470, 'round': 3243, 'pouring': 2981, 'bucket': 817, 'running': 3253, 'setting': 3337, 'case': 867, 'lunden': 2414, '1990': 106, 'ignore': 2014, 'sense': 3327, 'telling': 3713, 'fit': 1600, 'situation': 3421, 'nvm': 2741, 'iiiiiiiiiii': 2016, 'shake': 3345, 'unlike': 3885, 'brooooo': 805, 'bady': 653, 'yust': 4203, 'wery': 4064, 'nerdy': 2672, 'peach': 2865, 'absolute': 403, 'soo': 3479, 'unnfy2i': 3887, 'sooooooooooooooo': 3484, 'drink': 1316, 'bleach': 741, 'jackal': 2125, 'james': 2132, 'wrap': 4140, '50k': 270, '9nl': 375, 'roarrrr': 3224, 'echa': 1360, 'vistazo': 3983, 'remezcla': 3160, 'wrecking': 4141, 'ball': 654, 'vincent': 3967, 'enlace': 1417, 'suscríbase': 3658, 'tyga': 3861, 'molly': 2583, 'whiz': 4075, 'khalifa': 2204, 'racists': 3080, 'george': 1727, 'idol': 2007, 'inspiration': 2072, 'thou': 3752, 'covered': 1081, 'mockingbird': 2576, 'worked': 4122, 'fool': 1622, 'foolish': 1623, 'arrogant': 579, 'obviously': 2751, 'hits': 1929, 'garnered': 1713, 'numbering': 2735, 'trash': 3816, 'fathers': 1534, 'mothers': 2609, 'looooooooove': 2375, 'elephant': 1383, 'broken': 804, 'horn': 1958, '2b4wywphi8c': 176, '322': 199, '484': 251, 'autotune': 617, 'jjiwajwkajajqjaubkm': 2147, 'floooooooooooooooooooop': 1608, '2008': 124, 'nikki': 2699, 'minaj': 2546, 'anaconda': 525, 'hips': 1923, 'earthquake': 1352, 'nepal': 2671, 'possibly': 2970, 'overplayed': 2813, 'radio': 3081, 'ro': 3218, 'sa': 3259, 'rct': 3105, 'esrc': 1440, 'source': 3496, 'cd': 876, 'ved': 3937, '0cb8qfjaa': 13, '3a': 220, '2f': 178, '2fen': 179, 'wikipedia': 4084, '2fwiki': 181, '2flist_of_most_viewed_youtube_videos': 180, 'ei': 1380, 'oq3yu9dwc8l4yqoyo4goaw': 2797, 'usg': 3915, 'afqjcngkm': 470, 'idplal6kuvkoekvgdtt2jvlq': 2009, 'sig2': 3393, 'onqzzad3q3cmnbe9nml4ga': 2784, 'bvm': 839, 'bv': 838, '73231344': 321, 'bgq': 711, 'cad': 846, 'rja': 3216, 'cock': 980, 'beneath': 697, 'alvar': 510, 'oppa': 2794, 'luxuriant': 2418, 'responsible': 3184, 'unbiased': 3870, 'yoffa': 4187, 'handsome': 1859, 'mizuxe': 2570, 'boaconic': 755, 'sophisticated': 3487, 'fated': 1533, 'spourmo': 3535, 'chubby': 951, 'hioffpo': 1920, 'probable': 3007, 'singlewave': 3410, 'charlieee': 915, 'dddd': 1176, 'cope': 1064, 'picked': 2901, 'pen': 2867, 'paper': 2831, '7k': 334, '500k': 266, 'wrote': 4149, 'released': 3154, 'tried': 3824, 'suicide': 3624, 'professionally': 3015, 'produced': 3012, 'ima': 2028, 'datpiff': 1170, 'mixtapes': 2569, '633807': 306, 'reasons': 3119, 'south': 3498, 'summon': 3628, 'freddy': 1646, 'mercury': 2516, 'ghost': 1732, 'whipe': 4071, 'direction': 1244, 'cirus': 955, 'burned': 826, 'soundhase': 3493, 'texas': 3724, 'pmw': 2948, 'disappoint': 1247, 'therealchrisking1': 3741, 'lane': 2261, '3rd': 229, 'tape': 3691, 'crown': 1112, 'asking': 592, 'catch': 869, 'letting': 2301, 'mute': 2641, 'volume': 3990, 'azerbaijan': 640, 'groups': 1808, '100877300245414': 26, 'leandrus': 2285, 'playtime': 2928, 'awesoooome': 631, 'telephone': 3711, 'whore': 4077, 'grow': 1809, 'wilsubscribe': 4087, 'frndzzl': 1664, 'brazil': 790, 'dealing': 1179, 'theories': 3738, 'mabey': 2432, 'realy': 3117, 'numbers': 2737, 'rising': 3214, '2017': 138, 'populatoin': 2963, 'connected': 1045, 'hackers': 1840, 'rised': 3213, 'featured': 1552, 'multiple': 2631, 'mp3s': 2619, 'concerts': 1032, 'eve': 1452, 'event': 1453, '2012': 130, 'seeing': 3314, 'adding': 443, 'complaining': 1023, 'heck': 1896, '2b': 175, 'personally': 2884, 'relationship': 3153, 'wanderfol': 4015, 'miusic': 2565, 'katheryn': 2190, '389088': 215, 'sheilcen': 3360, 'kpop': 2241, 'parody': 2835, 'wiredo': 4096, 'ithat': 2114, 'child': 932, 'actor': 432, 'hwang': 1989, 'minoo': 2552, 'praying': 2990, 'superstar': 3639, 'stronglittlepsy': 3586, 'ygunited': 4185, 'feminist': 1568, 'reinforce': 3149, 'stereotype': 3564, 'girly': 1746, 'painting': 2823, 'wouldn': 4135, 'wellcomemd': 4061, 'blogfa': 746, 'duzafizz': 1340, 'burder': 825, 'colorful': 991, 'incandescent': 2044, 'ambitious': 516, 'winooze': 4095, 'absorbing': 405, 'macabre': 2433, 'crestboot': 1097, 'boxium': 779, 'womanly': 4107, 'tan': 3687, 'ybuwyn': 4173, 'forgetful': 1629, 'zealous': 4206, 'nut': 2739, 'shell': 3362, '301': 191, 'club': 977, '3m57s': 228, '57': 286, 'christianity': 948, 'arguements': 574, 'religious': 3157, 'console': 1048, 'wars': 4027, 'pcmasterace': 2859, 'trolls': 3830, 'theres': 3743, 'complaints': 1024, 'pewdiepie': 2890, 'fangirls': 1523, 'scrubs': 3298, 'montageparodies': 2596, 'spanish': 3508, 'rb': 3104, '13017194': 59, 'affiliated': 464, 'enjoyable': 1416, 'contact': 1054, 'neeru105': 2666, 'gmail': 1757, 'borderlands': 770, 'pre': 2991, 'sequel': 3330, '23eminem': 147, '23lovethewayyoulie': 153, 'lovethewayyoulie': 2401, '23rapgod': 154, 'rapgod': 3091, '23king': 150, 'promotes': 3030, 'terrorism': 3721, 'gusttavo': 1828, 'lima': 2323, 'você': 3988, 'não': 2745, 'conhece': 1044, 'approve': 570, 'insurance': 2085, 'appoints': 566, 'prepare': 2994, 'historical': 1926, '2012bitches': 132, 'yuttx04oyqq': 4204, 'smoking': 3459, 'wtf': 4150, 'likeeeeeeeee': 2317, 'billboard': 721, 'articles': 583, 'columns': 996, '6174122': 303, 'army': 578, 'sones': 3474, 'vips': 3971, 'doubt': 1295, 'couch': 1069, 'guardalo': 1819, 'cats': 872, 'gatti': 1715, 'pazzi': 2856, 'divertenti': 1263, '5287': 276, '100000415527985': 22, 'haters': 1876, 'realtionship': 3116, 'jack': 2124, '5c': 291, '4s': 259, '251638183951': 164, 'smaller': 3450, 'mile': 2537, 'inaccurate': 2042, 'rip': 3211, '_chris_cz': 382, 'coffee': 984, 'lovers': 2398, 'lova': 2392, 'spell': 3515, 'titled': 3772, 'blast': 740, 'ends': 1411, 'jail': 2130, 'ended': 1409, 'od': 2754, 'mv': 2643, 'worry': 4131, 'youtubers': 4197, 'gave': 1716, 'dreaddis': 1304, 'm_notif': 2430, 'if_t': 2010, 'fbpage_fan_invite': 1546, 'actorid': 433, '1442646731': 87, 'insanely': 2066, 'kidding': 2207, 'muslims': 2640, 'egoistic': 1376, 'population': 2962, 'donating': 1289, 'dollar': 1282, 'poor': 2958, 'terrorist': 3722, 'billions': 724, 'lamest': 2257, 'aid': 484, 'charity': 912, 'proud': 3038, 'ricky': 3202, 'smh': 3454, 'northland': 2720, 'paranormal': 2833, 'society': 3465, 'evidence': 1459, 'effects': 1371, 'foto': 1635, 'audiojungle': 605, 'eugenekalinin': 1448, 'portfolio': 2966, '6401116': 309, 'vps': 3998, 'solutions': 3469, 'officiates': 2760, 'walk': 4011, 'judges': 2170, 'ink': 2063, 'valuable': 3929, 'increase': 2050, '505b0232': 268, '05': 8, 'boa': 754, 'constrictor': 1051, 'squeezes': 3542, 'plays': 2927, 'paypal': 2855, 'giveaway': 1747, 'entered': 1422, 'famine': 1519, 'food': 1621, '40': 230, 'raise': 3083, 'luxuries': 2419, 'barnesandnoble': 663, 'bdp': 672, 'csrftoken': 1117, 'i9tixe8cnkcosoqkemgjlu5uwv6nsxso': 1995, 'sort': 3490, 'dd': 1175, 'size': 3422, '89iyec7nrwp5nytno5u7amhvmflutggl': 356, 'dref': 1309, '5094': 269, 'looooooooooooooooooooovvvvvvvvveeeeeeeeeeee': 2374, 'ittttttttttttt': 2118, 'df': 1226, 'irritating': 2109, 'helpmypitbull': 1905, 'pitbull': 2913, 'spray': 3537, 'hairstylist': 1849, 'cameraman': 851, 'explains': 1482, 'awful': 633, 'clue': 978, 'cruz': 1114, 'supat': 3633, 'grave': 1798, 'bishopsgravemarker': 732, 'gotta': 1789, 'updated': 3894, 'ol': 2769, 'weren': 4063, 'butts': 834, 'streamer': 3580, 'spotify': 3533, 'allows': 502, 'files': 1583, 'offline': 2761, 'opening': 2788, 'beta': 704, 'mega': 2499, 'nz': 2744, 'ehvjzkya': 1379, '5bgkg2iwphzohwaeuesrwnegqg_labco7rw9wfx8hao': 290, 'succesfull': 3614, 'pplease': 2986, 'pe': 2862, 'pour': 2980, 'madly': 2437, 'hopme': 1955, 'sihaam01': 3398, 'tsū': 3843, 'platform': 2921, 'markusmairhofer': 2467, 'coolest': 1062, 'sextoy': 3340, 'paused': 2852, '753': 327, '682': 313, '421': 235, 'red': 3131, '90000000000000000000000000000000000000000000000000000000000000000000000000000000000000000000000000000000000000000000000000000000000000000000000000000000000000000000000000000000000000000000000000000000000000000000000000000000000000000000000000000000000000000000000000000000000000000000000000000000000000000000000000000000000000000000000000000000000000000': 360, 'faves': 1538, 'meet': 2497, 'richest': 3201, 'marketer': 2465, 'adroid': 454, 'example': 1465, 'abuse': 406, 'husbands': 1986, 'sayin': 3282, '9gag': 374, 'gag': 1693, 'aavpwj9': 396, 'problem': 3009, 'phenomena': 2891, 'ilove': 2024, 'tlouxmusic': 3776, 'drum': 1325, 'no9povz9oiq': 2708, 'list': 2334, 'uultucdihsdei01by1ow7wuq': 3924, 'chuck': 953, 'norrus': 2719, 'ovbiously': 2812, 'efforts': 1373, '14gkvdo': 94, 'oportunity': 2793, 'tazz': 3701, 'lemme': 2295, 'advertisiments': 461, 'estonia': 1443, 'wafence': 4003, 'eonline': 1431, 'eol_images': 1430, 'entire_site': 1429, '2012430': 131, 'reg_1024': 3143, 'mkup': 2571, 'mh': 2527, '053012': 9, 'jpg': 2166, 'tomeks': 3781, 'trafficking': 3807, 'thepetitionsite': 3739, '387': 213, '433': 237, '550': 282, 'cid': 954, 'headerclick': 1887, 'hardcore': 1868, 'shaki': 3346, '5277478': 275, '79': 332, '521': 273, '750': 326, 'bones': 760, 'dosing': 1293, 'feet': 1562, 'notes': 2724, 'clear': 968, 'utter': 3923, 'cleanse': 967, 'idiocy': 2004, 'humankind': 1980, 'send': 3326, 'justice': 2180, 'steven': 3566, 'reed': 3134, 'lands': 2260, 'supreme': 3645, 'court': 1079, 'gamezz': 1701, 'mta': 2626, '3m40s': 227, '4m11s': 257, 'nxk32i0hkds': 2742, 'pivot': 2914, 'animations': 539, 'zxlightsoutxz': 4213, 'goonrock': 1777, 'useful': 3909, 'demonstrating': 1209, 'enormously': 1420, 'transformed': 3812, 'fausto': 1535, 'substantially': 3612, 'amazement': 512, 'hopefully': 1952, 'password': 2845, 'hack2013': 1838, 'software': 3466, 'hacking': 1842, 'breaks': 794, 'eva': 1451, 'juyk': 2184, 'allways': 503, 'sucscribe': 3621, 'sttuupid': 3587, 'yuliya': 4202, 'september': 3329, 'challenge': 897, 'helps': 1906, 'grwmps': 1812, 'obsessed': 2749, 'totally': 3795, 'ignorant': 2013, 'wavefire': 4041, 'skizzle': 3429, 'jovaphile': 2164, 'swooflia': 3670, 'grynn': 1813, 'excellent': 1466, 'slimy': 3443, 'gabby': 1691, 'nalpure': 2653, 'lucky': 2409, 'glozzom': 1756, 'depressed': 1212, 'sinpad': 3412, 'stereotyped': 3565, 'toximble': 3800, 'palastine': 2826, 'voyage': 3997, 'followers': 1618, 'igblast': 2012, 'plzzzzzzz': 2946, 'plzzzzzzzzzzzzzzzzzzzzzzzzzzzzzzz': 2947, 'giphy': 1740, 'gifs': 1735, 'flowers': 1611, 'gw3jy2uqiaxkaqxs': 1832, 'fullscreen': 1680, 'idols': 2008, 'pic': 2900, 'smzdivopxb': 3460, 'hahaa': 1844, 'tightttt': 3765, 'ain': 487, 'demo': 1207, 'slappers': 3434, 'bangers': 660, 'peep': 2866, 'rocc': 3231, 'steady': 3558, 'emoji': 1400, 'nippylongbottom': 2703, 'punk': 3053, 'czfcxsn0jnq': 1141, 'wowwwwwwwwwwwwwwwwwwwwwwwwwwwwww': 4138, 'twin': 3855, 'twins': 3856, 'danke': 1165, 'grazie': 1799, 'congratulations': 1042, 'dunno': 1337, 'joke': 2160, 'rjanimalcare': 3217, 'cyphers': 1138, 'nailey': 2650, 'nicool': 2692, '629410220489046': 305, 'smiley': 3456, 'expression': 1490, 'important': 2036, 'statistics': 3556, 'measure': 2489, 'warmth': 4024, 'happiness': 1864, 'smiley12': 3457, 'ho': 1935, 'lumineers': 2413, 'parry': 2836, 'total': 3793, 'roberts9010': 3226, 'thoughts': 3754, 'headbutt': 1886, 'ini': 2061, 'aspiring': 594, 'hopes': 1953, 'fact': 1507, 'likeee': 2315, 'thailand': 3727, 'lovee': 2395, 'schoolgeniusnits': 3289, 'ms': 2622, 'ejw9kvkoxdamqm808h5z': 1382, '4snjqp': 261, '_thqbeum69aqup1ih': 388, '_fphgk5zllsvdqv0zuf0mb': 383, 'lnuj': 2359, 'ufth4yokfrxyts2zvrrp6qgtw67y': 3865, 'l551h': 2249, 'f7': 1499, '_vlczzrg8vgctlpsd9ongewhj8': 390, '_gibu': 384, 's3lzmvy': 3257, 'iq2': 2106, 'twsfzz9whn7jusvhufpglqrzczl05fnphagevb3x8ydmc6x': 3859, 'jtcjnmho': 2169, 'vfxwcjzyvwobihrngx2ocjng2pg1evhxzyjd': 3948, '_o3h': 385, '_ry6f57sprnd2xv': 386, '_bzszz': 381, 'bps': 783, '390875584405933': 218, '391725794320912': 219, 'googleadservices': 1775, 'pagead': 2818, 'aclk': 423, 'ai': 483, 'csyoeb1wxvpcfl7d27abgpydgbjdpm6ih6mhu05wbgjxbv8sbeaegkn7ljvcf7byh_f____8byiofgicahkabskg31wpiaqkpah_kmc0hbpm': 1118, 'qambyapbbkoekwfp0kullxqi1mg6o43hvze': 3063, 'efmqrg4tu5llbu_fsz8gn0hbkjhbx': 1374, 'm83w1ts3_3dx_hwpdx1kazsj8o7siecvjjmbnswyijecqvhxlbdzstubofaloyinwm0_roocpps2auat6zguickm0li83duwmabzqvene8trfazorltbb037vzyv_xi4hbnq2nvh19mrbge0sibgggbgkab7jeycg': 2429, 'num': 2733, '5ggs_m_9ma3ti40fs6mvpics': 293, 'sig': 3392, 'aod64_1ofc7seh_1pop': 554, 'jyrbs7x6': 2186, 'heenq': 1897, 'client': 971, 'ca': 843, '8252267209931889': 339, 'adurl': 457, '2parale': 184, 'pentru': 2870, 'afiliati': 468, 'aplica': 555, 'noile': 2710, 'programe': 3022, 'afiliere': 469, 'fii': 1582, 'boomerul': 766, 'lunii': 2415, 'nm': 2707, 'mb': 2483, 'bg': 710, 'a0qouc7q48v3_qiaaabpugaaacsqar0_vgoqwqxjmpuyvkosf3k': 391, 'q1bvkf9ze4jhnc3ovckkxcbafzzpajibxwbvvq4jrdgz8q3rinlwgaby_bxlfw7ma6dk0rjg14zkryizwqdi7hxgge9tndd9abfltfkbmbffcjixnthwbwkj6n2onlh2d9eveagphoewxogbnu5ibgtrkgnacq1oibgmzgafnsc0lsariqj8hqr8t12dwv_7biy4k6i3y4yublotde_4xvklnveadzzf1l_xryqke6wsur3edljwgk8flq_qaldi': 3062, 'waznuysgqjnrdy6vucklplzonyisdkc9ebx': 4045, '0dbhjzdw0lbsjbi40gxm0d0p5krhv8xinqli53__wqbahs8zx4mjhw5vwrkpxfoeks': 15, 'dedication': 1193, 'expose': 1486, 'believer': 691, 'loyal': 2404, 'reads': 3110, 'cleaning': 966, 'halp': 1855, 'professor': 3016, 'kollektivet': 2236, 'slappin': 3435, 'credit': 1095, 'receive': 3121, '______________________________': 379, 'som': 3471, 'kik': 2211, 'skype': 3433, 'pander26': 2828, 'sander': 3271, 'nicolaysen2': 2691, '______________________': 378, 'kashoo': 2189, 'hupweh5ab': 1983, '969': 371, '210': 141, 'college': 990, 'heart': 1893, '9082175': 362, 'british': 802, 'weekly': 4056, 'joyce': 2165, 'growtopia': 1811, 'skinny': 3426, 'bisexual': 731, 'sweat': 3664, 'freaking': 1645, 'nervous': 2674, 'austin': 612, 'mahone': 2443, 'diving': 1265, 'doctor': 1272, 'eye': 1495, 'using': 3916, 'titles': 3773, 'spousal': 3536, 'abusue': 410, 'adore': 452, 'earning': 1349, 'claiming': 959, 'acquire': 426, 'lad': 2252, 'selecting': 3317, 'generated': 1724, 'assume': 597, 'succeeds': 3613, 'underrated': 3875, 'meaningful': 2487, 'vibe': 3950, 'amy': 523, 'tension': 3718, 'katycat': 2194, '1461302180794905': 89, 'fbid': 1545, '313454548839369': 195, '207230212795137': 139, '1073741825': 35, '100005244783212': 23, '1111111111111111111': 44, '10626835': 32, 'dingo': 1243, 'katys': 2197, '25th': 166, 'itttttttt': 2117, 'wurkkkkkkkkkkkkkkkkkkkkkkkkkkkkkkkkkkkkkkkkkkkkkkkkkkkkkkkkkkkkkkkkkkkkkkkkkkkkkkkkkkkkkkkkkkkkkkkkkkkkk': 4152, 'itt': 2116, 'ppl': 2985, 'flimsy': 1605, 'slip': 3444, 'facilitate': 1505, 'manager': 2457, 'anxious': 550, 'retrieve': 3188, 'test': 3723, 'murdev': 2635, 'eminen': 1396, 'downs': 1299, 'daaaaaaaaaaannng': 1148, 'dominate': 1286, 'roared': 3223, 'lion': 2331, 'dede': 1191, 'giraffe': 1741, 'elongate': 1387, 'spinal': 3519, 'pigment': 2906, 'root': 3239, '23giraffebruuh': 149, 'giraffebruuh': 1742, 'flipagram': 1606, 'luka1qmrhf': 2411, 'codytolleson': 983, 'cried': 1100, '002': 2, '018': 3, 'wk': 4103, 'halloween': 1853, 'felt': 1565, 'noms': 2713, 'spaces': 3501, 'shkira': 3370, 'worth': 4133, 'clicked': 970, 'went': 4062, 'uphill': 3896, 'jb': 2137, 'fantasy': 1526, 'the1fantasy': 3735, 'filming': 1588, 'ytma': 4201, 'millioon': 2542, 'dislikesssssssssssssssssssssssssssssssss': 1258, 'الإعلانات': 4215, 'لل': 4216, 'career': 864, 'nowplaying': 2728, 'weekendmix': 4055, '04': 6, 'denis': 1210, 'shmelev': 3371, 'alex': 496, 'serov': 3333, 'smartfm': 3452, 'livestream': 2346, '333': 203, 'weekend': 4054, 'starlitnightsky': 3549, 'registr': 3145, 'worldwide_life': 4128, '543627485763966': 280, '0d878a889c': 14, 'eminmem': 1397, 'bastard': 670, 'teelalala': 3708, 'eh': 1377, 'drews': 1314, 'effect': 1370, 'expansion': 1474, 'intervene': 2094, 'sneeze': 3462, 'witnesss': 4102, 'smoke': 3458, 'alright': 508, 'john': 2155, 'lyrically': 2425, 'hotter': 1964, 'suscribite': 3657, 'whatuknow': 4069, 'youniqueproducts': 4190, 'joannagordon': 2151, 'younique': 4189, 'joanna': 2150, 'gordon': 1783, 'entertainer': 1423, 'honesty': 1946, 'wright': 4143, '12year': 57, 'makeing': 2448, 'harts': 1872, 'breaken': 793, 'cazzy': 875, 'comeing': 1001, 'rule': 3251, 'luck': 2407, 'dysfunctional': 1343, 'insanity': 2067, 'didnt': 1235, 'matter': 2477, 'bengal': 698, '108k': 39, 'critisism': 1107, 'dongs': 1290, 'fairy': 1513, 'blonde': 749, 'android': 532, 'editor': 1366, 'butalabs': 831, 'porno': 2965, 'title': 3771, 'fgw': 1572, 'pleaaaase': 2930, 'cyrine_ghorbel': 1139, 'curse': 1126, 'maylaysia': 2482, 'airlines': 489, 'louis': 2391, 'saving': 3278, 'offical': 2757, 'hoping': 1954, 'helpful': 1902, 'visuelgamingznl': 3984, 'españa': 1438, 'mexico': 2525, 'latinoamerica': 2270, 'similar': 3400, 'exists': 1472, 'accounts': 419, '1111': 43, 'expect': 1475, 'irish': 2107, 'avicii': 621, 'fiddle': 1575, 'yellow': 4179, 'suit': 3625, 'jae': 2128, 'suk': 3626, 'filling': 1586, 'prizerebel': 3005, 'index': 2055, '1446084': 88, 'comforter': 1005, 'afflicted': 466, 'christians': 949, 'patriarchs': 2847, 'prophets': 3032, 'apostles': 558, 'martyrs': 2470, 'confessors': 1036, 'saints': 3264, 'conceived': 1030, 'sin': 3403, 'rosary': 3240, 'marius1533': 2463, 'dancer': 1159, 'robo': 3228, 'hero': 1909, 'sweet': 3665, 'natural': 2659, 'spammers': 3505, 'allot': 500, 'effort': 1372, 'unfortunatly': 3881, 'mah': 2441, 'duh': 1334, 'glamour': 1754, 'fell': 1564, 'golden': 1766, 'anderson': 529, 'expecting': 1477, 'gain': 1694, 'harder': 1869, 'd8': 1144, 'aa': 393, 'd9': 1145, '85': 342, '8a': 357, '84': 341, 'a7': 392, 'ac': 411, '88': 350, 'b3': 643, '82': 336, '89___': 354, '674732645945877': 312, 'luckymusiqlive': 2410, 'flies': 1603, 'awesum': 632, 'jus': 2177, 'yt': 4200, 'grateful': 1797, 'bf4': 709, 'advice': 463, 'bil': 719, 'gs': 1814, 'mummy': 2633, 'unstoppable': 3889, 'cash': 868, 'nike': 2697, 'gamestop': 1700, 'downloading': 1297, 'inviting': 2100, 'signup': 3397, 'promo': 3027, 'bd3721315': 671, '124923004': 53, 'wiews': 4082, 'qq': 3067, 'myfunnyriddles': 2646, 'warning': 4025, 'lneadw26bfst76vhkjl8pxaey6vmnlvmriudtsfk6vy': 2354, 'ali': 498, 'paša': 2857, '09': 12, '26t22': 169, '047000': 7, 'croatia': 1108, 'lneadw26bfvkahxpkenm25fywkyxthsupri6juqsznu': 2358, 'belrus': 696, '26': 167, '832000': 340, 'lneadw26bftvzqt6juehasiefrjg1exi_dvqdnqvpho': 2356, 'exode': 1473, 'comeback': 999, '710000': 320, '600m': 300, 'lneadw26bfunoarag71awgu6tjo6azdkfiun_tz1_hy': 2357, 'muhammad': 2630, 'shaeel': 3344, 'abbas': 397, '45': 244, '476000': 248, 'lneadw26bft': 2355, 'otoufj0z3vfflfnaxykwzsivqhimx': 2805, '43': 236, '613000': 301, 'premium': 2993, 'easypromosapp': 1355, 'voteme': 3993, '19924': 107, '616375350': 302, 'jaylan': 2136, 'randomly': 3086, 'replies': 3174, 'jello': 2139, 'strawberry': 3578, '447935454150': 241, 'hii': 1918, 'chcfcvzfzfbvzdr': 918, 'gamezzmta': 1702, '2016': 137, 'underground': 3874, 'pussy': 3060, 'mate': 2473, 'kodysman': 2234, '29': 173, '24': 157, 'ehi': 1378, 'computer': 1029, 'tears': 3705, 'littlebrother': 2342, 'garbage': 1710, 'beatboxing': 675, 'hoppa': 1956, 'gangam': 1705, 'nezo': 2683, 'ed': 1362, 'duo': 1338, 'starting': 3553, 'freestyles': 1651, 'rhymes': 3198, 'pointers': 2954, 'olds': 2773, 'wil': 4085, 'cooooooooooooolllllllllll': 1063, 'mai': 2444, 'nguyen': 2684, 'meghan': 2501, '124': 52, '821': 337, '694': 314, 'apocalypse': 556, 'greetings': 1805, 'spoderman': 3524, 'dtqcftr1fac': 1328, 'justien': 2181, 'worldcup': 4126, 'gvr7xg': 1831, 'skill': 3423, 'current': 1124, 'niggas': 2694, 'dang': 1163, 'dat': 1168, 'gat': 1714, 'freakin': 1644, 'hug': 1975, 'brake': 787, 'lmfaovevo': 2353, '23everydayimvaping': 148, 'everydayimvaping': 1457, '629': 304, 'ginius': 1739, 'shakiria': 3351, 'based': 666, 'propa': 3031, 'explicit': 1483, 'gangsta': 1709, 'insted': 2082, 'aimbwbfqbzg': 486, 'subscrible': 3609}\n"
     ]
    }
   ],
   "source": [
    "vect = CountVectorizer(stop_words='english').fit(comentarios)\r\n",
    "print(\"Quantiade de palavras:{}\".format(len(vect.vocabulary_)))\r\n",
    "print(vect.vocabulary_)"
   ]
  },
  {
   "cell_type": "code",
   "execution_count": 42,
   "metadata": {},
   "outputs": [
    {
     "data": {
      "text/plain": "Pipeline(memory=None,\n         steps=[('bag_of_word',\n                 CountVectorizer(analyzer='word', binary=False,\n                                 decode_error='strict',\n                                 dtype=<class 'numpy.int64'>, encoding='utf-8',\n                                 input='content', lowercase=True, max_df=1.0,\n                                 max_features=None, min_df=1,\n                                 ngram_range=(1, 1), preprocessor=None,\n                                 stop_words=None, strip_accents=None,\n                                 token_pattern='(?u)\\\\b\\\\w\\\\w+\\\\b',\n                                 tokenizer=None, vocabul...\n                 RandomForestClassifier(bootstrap=True, ccp_alpha=0.0,\n                                        class_weight=None, criterion='gini',\n                                        max_depth=None, max_features='auto',\n                                        max_leaf_nodes=None, max_samples=None,\n                                        min_impurity_decrease=0.0,\n                                        min_impurity_split=None,\n                                        min_samples_leaf=1, min_samples_split=2,\n                                        min_weight_fraction_leaf=0.0,\n                                        n_estimators=100, n_jobs=None,\n                                        oob_score=False, random_state=None,\n                                        verbose=0, warm_start=False))],\n         verbose=False)"
     },
     "execution_count": 42,
     "metadata": {},
     "output_type": "execute_result"
    }
   ],
   "source": [
    "pipeline = Pipeline([('bag_of_word', CountVectorizer()),\r\n",
    "                    ('random_forest', RandomForestClassifier())\r\n",
    "                    ])\r\n",
    "pipeline"
   ]
  },
  {
   "cell_type": "code",
   "execution_count": 43,
   "metadata": {},
   "outputs": [
    {
     "data": {
      "text/plain": "Pipeline(memory=None,\n         steps=[('bag_of_word',\n                 CountVectorizer(analyzer='word', binary=False,\n                                 decode_error='strict',\n                                 dtype=<class 'numpy.int64'>, encoding='utf-8',\n                                 input='content', lowercase=True, max_df=1.0,\n                                 max_features=None, min_df=1,\n                                 ngram_range=(1, 1), preprocessor=None,\n                                 stop_words=None, strip_accents=None,\n                                 token_pattern='(?u)\\\\b\\\\w\\\\w+\\\\b',\n                                 tokenizer=None, vocabul...\n                 RandomForestClassifier(bootstrap=True, ccp_alpha=0.0,\n                                        class_weight=None, criterion='gini',\n                                        max_depth=None, max_features='auto',\n                                        max_leaf_nodes=None, max_samples=None,\n                                        min_impurity_decrease=0.0,\n                                        min_impurity_split=None,\n                                        min_samples_leaf=1, min_samples_split=2,\n                                        min_weight_fraction_leaf=0.0,\n                                        n_estimators=100, n_jobs=None,\n                                        oob_score=False, random_state=None,\n                                        verbose=0, warm_start=False))],\n         verbose=False)"
     },
     "execution_count": 43,
     "metadata": {},
     "output_type": "execute_result"
    }
   ],
   "source": [
    "pipeline.fit(comentarios[:1500],rotulo[:1500])"
   ]
  },
  {
   "cell_type": "markdown",
   "metadata": {},
   "source": [
    "Agora chamamos a função que verifica a potuação da previsão"
   ]
  },
  {
   "cell_type": "code",
   "execution_count": 44,
   "metadata": {},
   "outputs": [
    {
     "data": {
      "text/plain": "0.956140350877193"
     },
     "execution_count": 44,
     "metadata": {},
     "output_type": "execute_result"
    }
   ],
   "source": [
    "pipeline.score(comentarios[1500:],rotulo[1500:])"
   ]
  },
  {
   "cell_type": "markdown",
   "metadata": {},
   "source": [
    "Obtivemos uma pontuação de 0.95. \r\n",
    "Vamos tentar fazer uma previsão com duas diferentes frases e ver se o modelo consegue rotular como spam (1) ou não spam (0):"
   ]
  },
  {
   "cell_type": "code",
   "execution_count": 45,
   "metadata": {},
   "outputs": [
    {
     "data": {
      "text/plain": "array([[218,   7],\n       [ 13, 218]], dtype=int64)"
     },
     "execution_count": 45,
     "metadata": {},
     "output_type": "execute_result"
    }
   ],
   "source": [
    "prev = pipeline.predict(comentarios[1500:])\r\n",
    "confusion_matrix(rotulo[1500:], prev)"
   ]
  },
  {
   "cell_type": "markdown",
   "metadata": {},
   "source": [
    "A matrix de confusão mostra poucas classificações erradas comparadas com as classificações corretas."
   ]
  },
  {
   "cell_type": "code",
   "execution_count": 16,
   "metadata": {},
   "outputs": [
    {
     "data": {
      "text/plain": "array([0], dtype=int64)"
     },
     "execution_count": 16,
     "metadata": {},
     "output_type": "execute_result"
    }
   ],
   "source": [
    "pipeline.predict(['what a neat video!'])"
   ]
  },
  {
   "cell_type": "markdown",
   "metadata": {},
   "source": [
    "Como vemos, ele preveu corretamente como não spam; o póximo comentário:"
   ]
  },
  {
   "cell_type": "code",
   "execution_count": 17,
   "metadata": {},
   "outputs": [
    {
     "data": {
      "text/plain": "array([1], dtype=int64)"
     },
     "execution_count": 17,
     "metadata": {},
     "output_type": "execute_result"
    }
   ],
   "source": [
    "pipeline.predict(['plz subscribe to my channel'])"
   ]
  },
  {
   "cell_type": "markdown",
   "metadata": {},
   "source": [
    "Classificou o comentário como spam.\r\n",
    "Para superar isso vamos melhorar nosso modelo usando o cross-validation"
   ]
  },
  {
   "cell_type": "code",
   "execution_count": 20,
   "metadata": {},
   "outputs": [
    {
     "name": "stdout",
     "output_type": "stream",
     "text": [
      "Precisão: 0.96 (+/- 0.02)\n"
     ]
    }
   ],
   "source": [
    "score = cross_val_score(pipeline, comentarios, rotulo, cv=6)\r\n",
    "print(\"Precisão: %.2f (+/- %.2f)\" % (score.mean(),score.std()*2))"
   ]
  },
  {
   "cell_type": "markdown",
   "metadata": {},
   "source": [
    "Parece que tivemos uma boa melhora.\r\n",
    "Agora vamos adicionar o TF-IDF em nosso modelo para aumenta a precisão:"
   ]
  },
  {
   "cell_type": "code",
   "execution_count": 48,
   "metadata": {},
   "outputs": [],
   "source": [
    "pipeline2 = Pipeline([('countvectorizer',CountVectorizer()),\r\n",
    "                    ('tfidftransformer',TfidfTransformer(norm=None)),\r\n",
    "                    ('randomforestclassifier',RandomForestClassifier())\r\n",
    "                     ])"
   ]
  },
  {
   "cell_type": "code",
   "execution_count": 49,
   "metadata": {},
   "outputs": [
    {
     "name": "stdout",
     "output_type": "stream",
     "text": [
      "Precisão: 0.96 (+/- 0.01)\n"
     ]
    }
   ],
   "source": [
    "score2 = cross_val_score(pipeline2, comentarios, rotulo, cv=6)\r\n",
    "print(\"Precisão: %.2f (+/- %.2f)\" % (score2.mean(),score2.std()*2))"
   ]
  },
  {
   "cell_type": "code",
   "execution_count": 52,
   "metadata": {},
   "outputs": [
    {
     "data": {
      "text/plain": "array([[220,   5],\n       [ 13, 218]], dtype=int64)"
     },
     "execution_count": 52,
     "metadata": {},
     "output_type": "execute_result"
    }
   ],
   "source": [
    "pipeline2.fit(comentarios[:1500],rotulo[:1500])\r\n",
    "prev2 = pipeline2.predict(comentarios[1500:])\r\n",
    "confusion_matrix(rotulo[1500:], prev2)"
   ]
  },
  {
   "cell_type": "markdown",
   "metadata": {},
   "source": [
    "Obtivemos uma pequena mudança.\r\n",
    "Vamos tentar ajustar os parâmetos e tentar encontrar o que fornece a melhor pontuação de precisão do modelo."
   ]
  },
  {
   "cell_type": "code",
   "execution_count": 37,
   "metadata": {},
   "outputs": [],
   "source": [
    "parametros = {\r\n",
    "    'countvectorizer__max_features': (None, 1000, 2000),\r\n",
    "    'countvectorizer__ngram_range': ((1,1),(1,2)), #unigrams ou bigrams\r\n",
    "    'countvectorizer__stop_words': ('english', None),\r\n",
    "    'tfidftransformer__use_idf': (True,False),\r\n",
    "    'randomforestclassifier__n_estimators':(20,50,100)\r\n",
    "     }\r\n",
    "\r\n",
    "grid = GridSearchCV(pipeline2, parametros, cv=6, n_jobs=1, verbose=1)    "
   ]
  },
  {
   "cell_type": "code",
   "execution_count": 59,
   "metadata": {},
   "outputs": [
    {
     "name": "stdout",
     "output_type": "stream",
     "text": [
      "Fitting 6 folds for each of 72 candidates, totalling 432 fits\n"
     ]
    },
    {
     "name": "stderr",
     "output_type": "stream",
     "text": [
      "[Parallel(n_jobs=1)]: Using backend SequentialBackend with 1 concurrent workers.\n",
      "[Parallel(n_jobs=1)]: Done 432 out of 432 | elapsed:  4.2min finished\n"
     ]
    },
    {
     "data": {
      "text/plain": "GridSearchCV(cv=6, error_score=nan,\n             estimator=Pipeline(memory=None,\n                                steps=[('countvectorizer',\n                                        CountVectorizer(analyzer='word',\n                                                        binary=False,\n                                                        decode_error='strict',\n                                                        dtype=<class 'numpy.int64'>,\n                                                        encoding='utf-8',\n                                                        input='content',\n                                                        lowercase=True,\n                                                        max_df=1.0,\n                                                        max_features=None,\n                                                        min_df=1,\n                                                        ngram_range=(1, 1),\n                                                        preprocessor=None,\n                                                        stop_words=None,\n                                                        strip_accents=None,\n                                                        token_pa...\n             iid='deprecated', n_jobs=1,\n             param_grid={'countvectorizer__max_features': (None, 1000, 2000),\n                         'countvectorizer__ngram_range': ((1, 1), (1, 2)),\n                         'countvectorizer__stop_words': ('english', None),\n                         'randomforestclassifier__n_estimators': (20, 50, 100),\n                         'tfidftransformer__use_idf': (True, False)},\n             pre_dispatch='2*n_jobs', refit=True, return_train_score=False,\n             scoring=None, verbose=1)"
     },
     "execution_count": 59,
     "metadata": {},
     "output_type": "execute_result"
    }
   ],
   "source": [
    "grid.fit(comentarios[:1500],rotulo[:1500])"
   ]
  },
  {
   "cell_type": "code",
   "execution_count": 60,
   "metadata": {},
   "outputs": [
    {
     "name": "stdout",
     "output_type": "stream",
     "text": [
      "Melhor precisão: 0.9620000000000001\n",
      "Melhores parâmetros: {'countvectorizer__max_features': 2000, 'countvectorizer__ngram_range': (1, 1), 'countvectorizer__stop_words': 'english', 'randomforestclassifier__n_estimators': 100, 'tfidftransformer__use_idf': False}\n"
     ]
    }
   ],
   "source": [
    "print(\"Melhor precisão: {}\".format(grid.best_score_))\r\n",
    "print(\"Melhores parâmetros: {}\".format(grid.best_params_))"
   ]
  },
  {
   "cell_type": "code",
   "execution_count": 61,
   "metadata": {},
   "outputs": [
    {
     "data": {
      "text/plain": "array([[216,   9],\n       [ 15, 216]], dtype=int64)"
     },
     "execution_count": 61,
     "metadata": {},
     "output_type": "execute_result"
    }
   ],
   "source": [
    "prev3 = grid.predict(comentarios[1500:])\r\n",
    "confusion_matrix(rotulo[1500:], prev3)"
   ]
  },
  {
   "cell_type": "code",
   "execution_count": null,
   "metadata": {},
   "outputs": [],
   "source": []
  }
 ],
 "metadata": {
  "kernelspec": {
   "display_name": "Python 3.7.6 64-bit (conda)",
   "metadata": {
    "interpreter": {
     "hash": "611cf997d5a3904788d8bf9711afacc9acf0278f5ab751438d0be3f34b870c8a"
    }
   },
   "name": "python3"
  },
  "language_info": {
   "codemirror_mode": {
    "name": "ipython",
    "version": 3
   },
   "file_extension": ".py",
   "mimetype": "text/x-python",
   "name": "python",
   "nbconvert_exporter": "python",
   "pygments_lexer": "ipython3",
   "version": "3.7.6"
  },
  "orig_nbformat": 2
 },
 "nbformat": 4,
 "nbformat_minor": 2
}